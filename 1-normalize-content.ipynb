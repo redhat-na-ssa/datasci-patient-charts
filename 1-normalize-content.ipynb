{
 "cells": [
  {
   "cell_type": "markdown",
   "id": "6ef57eb5-2295-44fb-81d9-4351769e8f4e",
   "metadata": {},
   "source": [
    "# 1 - Normalize Content"
   ]
  },
  {
   "cell_type": "markdown",
   "id": "f0f2712f-8424-41dc-8155-a5787a9f2d9f",
   "metadata": {},
   "source": [
    "This Lab material is an adaptation of the course 'Preprocessing Unstructured Data for LLM Applications', Coursera, March 2024\n",
    "\n",
    "In this jupyter notebook we will learn how to normalize pdf content."
   ]
  },
  {
   "cell_type": "code",
   "execution_count": 1,
   "id": "9b64bea9",
   "metadata": {
    "tags": []
   },
   "outputs": [
    {
     "name": "stdout",
     "output_type": "stream",
     "text": [
      "Requirement already satisfied: unstructured_client in /opt/app-root/lib/python3.9/site-packages (0.23.0)\n",
      "Requirement already satisfied: marshmallow>=3.19.0 in /opt/app-root/lib/python3.9/site-packages (from unstructured_client) (3.21.2)\n",
      "Requirement already satisfied: python-dateutil>=2.8.2 in /opt/app-root/lib/python3.9/site-packages (from unstructured_client) (2.9.0)\n",
      "Requirement already satisfied: requests-toolbelt>=1.0.0 in /opt/app-root/lib/python3.9/site-packages (from unstructured_client) (1.0.0)\n",
      "Requirement already satisfied: six>=1.16.0 in /opt/app-root/lib/python3.9/site-packages (from unstructured_client) (1.16.0)\n",
      "Requirement already satisfied: httpx>=0.27.0 in /opt/app-root/lib/python3.9/site-packages (from unstructured_client) (0.27.0)\n",
      "Requirement already satisfied: jsonpath-python>=1.0.6 in /opt/app-root/lib/python3.9/site-packages (from unstructured_client) (1.0.6)\n",
      "Requirement already satisfied: idna>=3.4 in /opt/app-root/lib/python3.9/site-packages (from unstructured_client) (3.6)\n",
      "Requirement already satisfied: typing-extensions>=4.7.1 in /opt/app-root/lib/python3.9/site-packages (from unstructured_client) (4.10.0)\n",
      "Requirement already satisfied: pypdf>=4.0 in /opt/app-root/lib/python3.9/site-packages (from unstructured_client) (4.2.0)\n",
      "Requirement already satisfied: mypy-extensions>=1.0.0 in /opt/app-root/lib/python3.9/site-packages (from unstructured_client) (1.0.0)\n",
      "Requirement already satisfied: requests>=2.31.0 in /opt/app-root/lib/python3.9/site-packages (from unstructured_client) (2.31.0)\n",
      "Requirement already satisfied: deepdiff>=6.0 in /opt/app-root/lib/python3.9/site-packages (from unstructured_client) (7.0.1)\n",
      "Requirement already satisfied: urllib3>=1.26.18 in /opt/app-root/lib/python3.9/site-packages (from unstructured_client) (1.26.18)\n",
      "Requirement already satisfied: nest-asyncio>=1.6.0 in /opt/app-root/lib/python3.9/site-packages (from unstructured_client) (1.6.0)\n",
      "Requirement already satisfied: certifi>=2023.7.22 in /opt/app-root/lib/python3.9/site-packages (from unstructured_client) (2024.2.2)\n",
      "Requirement already satisfied: typing-inspect>=0.9.0 in /opt/app-root/lib/python3.9/site-packages (from unstructured_client) (0.9.0)\n",
      "Requirement already satisfied: packaging>=23.1 in /opt/app-root/lib/python3.9/site-packages (from unstructured_client) (23.2)\n",
      "Requirement already satisfied: dataclasses-json>=0.6.4 in /opt/app-root/lib/python3.9/site-packages (from unstructured_client) (0.6.6)\n",
      "Requirement already satisfied: charset-normalizer>=3.2.0 in /opt/app-root/lib/python3.9/site-packages (from unstructured_client) (3.3.2)\n",
      "Requirement already satisfied: ordered-set<4.2.0,>=4.1.0 in /opt/app-root/lib/python3.9/site-packages (from deepdiff>=6.0->unstructured_client) (4.1.0)\n",
      "Requirement already satisfied: httpcore==1.* in /opt/app-root/lib/python3.9/site-packages (from httpx>=0.27.0->unstructured_client) (1.0.5)\n",
      "Requirement already satisfied: anyio in /opt/app-root/lib/python3.9/site-packages (from httpx>=0.27.0->unstructured_client) (4.3.0)\n",
      "Requirement already satisfied: sniffio in /opt/app-root/lib/python3.9/site-packages (from httpx>=0.27.0->unstructured_client) (1.3.1)\n",
      "Requirement already satisfied: h11<0.15,>=0.13 in /opt/app-root/lib/python3.9/site-packages (from httpcore==1.*->httpx>=0.27.0->unstructured_client) (0.14.0)\n",
      "Requirement already satisfied: exceptiongroup>=1.0.2 in /opt/app-root/lib/python3.9/site-packages (from anyio->httpx>=0.27.0->unstructured_client) (1.2.0)\n",
      "\n",
      "\u001b[1m[\u001b[0m\u001b[34;49mnotice\u001b[0m\u001b[1;39;49m]\u001b[0m\u001b[39;49m A new release of pip available: \u001b[0m\u001b[31;49m22.2.2\u001b[0m\u001b[39;49m -> \u001b[0m\u001b[32;49m24.0\u001b[0m\n",
      "\u001b[1m[\u001b[0m\u001b[34;49mnotice\u001b[0m\u001b[1;39;49m]\u001b[0m\u001b[39;49m To update, run: \u001b[0m\u001b[32;49mpip install --upgrade pip\u001b[0m\n",
      "Requirement already satisfied: unstructured in /opt/app-root/lib/python3.9/site-packages (0.14.4)\n",
      "Requirement already satisfied: chardet in /opt/app-root/lib/python3.9/site-packages (from unstructured) (5.2.0)\n",
      "Requirement already satisfied: filetype in /opt/app-root/lib/python3.9/site-packages (from unstructured) (1.2.0)\n",
      "Requirement already satisfied: python-magic in /opt/app-root/lib/python3.9/site-packages (from unstructured) (0.4.27)\n",
      "Requirement already satisfied: unstructured-client in /opt/app-root/lib/python3.9/site-packages (from unstructured) (0.23.0)\n",
      "Requirement already satisfied: emoji in /opt/app-root/lib/python3.9/site-packages (from unstructured) (2.12.1)\n",
      "Requirement already satisfied: wrapt in /opt/app-root/lib/python3.9/site-packages (from unstructured) (1.16.0)\n",
      "Requirement already satisfied: tabulate in /opt/app-root/lib/python3.9/site-packages (from unstructured) (0.9.0)\n",
      "Requirement already satisfied: dataclasses-json in /opt/app-root/lib/python3.9/site-packages (from unstructured) (0.6.6)\n",
      "Requirement already satisfied: typing-extensions in /opt/app-root/lib/python3.9/site-packages (from unstructured) (4.10.0)\n",
      "Requirement already satisfied: numpy in /opt/app-root/lib/python3.9/site-packages (from unstructured) (1.24.4)\n",
      "Requirement already satisfied: rapidfuzz in /opt/app-root/lib/python3.9/site-packages (from unstructured) (3.9.3)\n",
      "Requirement already satisfied: lxml in /opt/app-root/lib/python3.9/site-packages (from unstructured) (5.2.2)\n",
      "Requirement already satisfied: backoff in /opt/app-root/lib/python3.9/site-packages (from unstructured) (2.2.1)\n",
      "Requirement already satisfied: nltk in /opt/app-root/lib/python3.9/site-packages (from unstructured) (3.8.1)\n",
      "Requirement already satisfied: python-iso639 in /opt/app-root/lib/python3.9/site-packages (from unstructured) (2024.4.27)\n",
      "Requirement already satisfied: requests in /opt/app-root/lib/python3.9/site-packages (from unstructured) (2.31.0)\n",
      "Requirement already satisfied: langdetect in /opt/app-root/lib/python3.9/site-packages (from unstructured) (1.0.9)\n",
      "Requirement already satisfied: beautifulsoup4 in /opt/app-root/lib/python3.9/site-packages (from unstructured) (4.12.3)\n",
      "Requirement already satisfied: soupsieve>1.2 in /opt/app-root/lib/python3.9/site-packages (from beautifulsoup4->unstructured) (2.5)\n",
      "Requirement already satisfied: marshmallow<4.0.0,>=3.18.0 in /opt/app-root/lib/python3.9/site-packages (from dataclasses-json->unstructured) (3.21.2)\n",
      "Requirement already satisfied: typing-inspect<1,>=0.4.0 in /opt/app-root/lib/python3.9/site-packages (from dataclasses-json->unstructured) (0.9.0)\n",
      "Requirement already satisfied: six in /opt/app-root/lib/python3.9/site-packages (from langdetect->unstructured) (1.16.0)\n",
      "Requirement already satisfied: regex>=2021.8.3 in /opt/app-root/lib/python3.9/site-packages (from nltk->unstructured) (2024.5.15)\n",
      "Requirement already satisfied: tqdm in /opt/app-root/lib/python3.9/site-packages (from nltk->unstructured) (4.66.2)\n",
      "Requirement already satisfied: click in /opt/app-root/lib/python3.9/site-packages (from nltk->unstructured) (8.1.7)\n",
      "Requirement already satisfied: joblib in /opt/app-root/lib/python3.9/site-packages (from nltk->unstructured) (1.3.2)\n",
      "Requirement already satisfied: charset-normalizer<4,>=2 in /opt/app-root/lib/python3.9/site-packages (from requests->unstructured) (3.3.2)\n",
      "Requirement already satisfied: idna<4,>=2.5 in /opt/app-root/lib/python3.9/site-packages (from requests->unstructured) (3.6)\n",
      "Requirement already satisfied: urllib3<3,>=1.21.1 in /opt/app-root/lib/python3.9/site-packages (from requests->unstructured) (1.26.18)\n",
      "Requirement already satisfied: certifi>=2017.4.17 in /opt/app-root/lib/python3.9/site-packages (from requests->unstructured) (2024.2.2)\n",
      "Requirement already satisfied: deepdiff>=6.0 in /opt/app-root/lib/python3.9/site-packages (from unstructured-client->unstructured) (7.0.1)\n",
      "Requirement already satisfied: nest-asyncio>=1.6.0 in /opt/app-root/lib/python3.9/site-packages (from unstructured-client->unstructured) (1.6.0)\n",
      "Requirement already satisfied: mypy-extensions>=1.0.0 in /opt/app-root/lib/python3.9/site-packages (from unstructured-client->unstructured) (1.0.0)\n",
      "Requirement already satisfied: requests-toolbelt>=1.0.0 in /opt/app-root/lib/python3.9/site-packages (from unstructured-client->unstructured) (1.0.0)\n",
      "Requirement already satisfied: pypdf>=4.0 in /opt/app-root/lib/python3.9/site-packages (from unstructured-client->unstructured) (4.2.0)\n",
      "Requirement already satisfied: httpx>=0.27.0 in /opt/app-root/lib/python3.9/site-packages (from unstructured-client->unstructured) (0.27.0)\n",
      "Requirement already satisfied: python-dateutil>=2.8.2 in /opt/app-root/lib/python3.9/site-packages (from unstructured-client->unstructured) (2.9.0)\n",
      "Requirement already satisfied: jsonpath-python>=1.0.6 in /opt/app-root/lib/python3.9/site-packages (from unstructured-client->unstructured) (1.0.6)\n",
      "Requirement already satisfied: packaging>=23.1 in /opt/app-root/lib/python3.9/site-packages (from unstructured-client->unstructured) (23.2)\n",
      "Requirement already satisfied: ordered-set<4.2.0,>=4.1.0 in /opt/app-root/lib/python3.9/site-packages (from deepdiff>=6.0->unstructured-client->unstructured) (4.1.0)\n",
      "Requirement already satisfied: sniffio in /opt/app-root/lib/python3.9/site-packages (from httpx>=0.27.0->unstructured-client->unstructured) (1.3.1)\n",
      "Requirement already satisfied: httpcore==1.* in /opt/app-root/lib/python3.9/site-packages (from httpx>=0.27.0->unstructured-client->unstructured) (1.0.5)\n",
      "Requirement already satisfied: anyio in /opt/app-root/lib/python3.9/site-packages (from httpx>=0.27.0->unstructured-client->unstructured) (4.3.0)\n",
      "Requirement already satisfied: h11<0.15,>=0.13 in /opt/app-root/lib/python3.9/site-packages (from httpcore==1.*->httpx>=0.27.0->unstructured-client->unstructured) (0.14.0)\n",
      "Requirement already satisfied: exceptiongroup>=1.0.2 in /opt/app-root/lib/python3.9/site-packages (from anyio->httpx>=0.27.0->unstructured-client->unstructured) (1.2.0)\n",
      "\n",
      "\u001b[1m[\u001b[0m\u001b[34;49mnotice\u001b[0m\u001b[1;39;49m]\u001b[0m\u001b[39;49m A new release of pip available: \u001b[0m\u001b[31;49m22.2.2\u001b[0m\u001b[39;49m -> \u001b[0m\u001b[32;49m24.0\u001b[0m\n",
      "\u001b[1m[\u001b[0m\u001b[34;49mnotice\u001b[0m\u001b[1;39;49m]\u001b[0m\u001b[39;49m To update, run: \u001b[0m\u001b[32;49mpip install --upgrade pip\u001b[0m\n"
     ]
    }
   ],
   "source": [
    "# Install unstructured libraries\n",
    "\n",
    "!pip install unstructured_client\n",
    "!pip install unstructured"
   ]
  },
  {
   "cell_type": "code",
   "execution_count": null,
   "id": "4ec2430d-cac6-406e-a007-123dc97df0e2",
   "metadata": {
    "tags": []
   },
   "outputs": [],
   "source": [
    "# Warning control\n",
    "import warnings\n",
    "warnings.filterwarnings('ignore')"
   ]
  },
  {
   "cell_type": "code",
   "execution_count": null,
   "id": "591f213d-f54b-4c91-ae73-bcd2c7a4359e",
   "metadata": {
    "tags": []
   },
   "outputs": [],
   "source": [
    "from IPython.display import JSON\n",
    "\n",
    "import json\n",
    "\n",
    "from unstructured_client import UnstructuredClient\n",
    "from unstructured_client.models import shared\n",
    "from unstructured_client.models.errors import SDKError\n",
    "\n",
    "from unstructured.partition.html import partition_html\n",
    "#from unstructured.partition.pptx import partition_pptx\n",
    "from unstructured.staging.base import dict_to_elements, elements_to_json"
   ]
  },
  {
   "cell_type": "code",
   "execution_count": null,
   "id": "bdc3b45c-2c73-4034-bf04-072bd0cee6f6",
   "metadata": {
    "tags": []
   },
   "outputs": [],
   "source": [
    "#Use the DLAI_API_KEY & DLAI_API_URL that you obtained from Unstructured.io\n",
    "\n",
    "#DLAI_API_KEY = 'your DLAI_API_KEY'\n",
    "#DLAI_API_URL = 'your DLAI_API_URL'\n",
    "\n",
    "#Example\n",
    "DLAI_API_KEY = 'tkp3I9iABLDbcJvfgGvnELB4Y2usgn'\n",
    "DLAI_API_URL = 'https://naaissa-62qdjqlm.api.unstructuredapp.io/'\n",
    "\n",
    "s = UnstructuredClient(\n",
    "    api_key_auth=DLAI_API_KEY,\n",
    "    server_url=DLAI_API_URL,\n",
    ")"
   ]
  },
  {
   "cell_type": "markdown",
   "id": "25c7871b-c6ac-44ee-b985-d2e33154df14",
   "metadata": {},
   "source": [
    "## Examine PDF Files\n",
    "\n",
    "In the **datasci-patient-charts/example_files** directory, double click on each pdf to see what example data the team has to work with.\n",
    "Closely examine the file CP_CHRT_C_G4M3BA_De-identified.pdf  In this lab we will work with this pdf. \n",
    "\n",
    "PDFs are different than processing HTML or ppts.  Where in those documents you are looking at semi-structured information for clues on how to divide element types within the documents. In pdfs you are going to look for things like formatting.  For example:\n",
    "* a piece of text that is 'bolded' or 'underlined' may more likely be a title.\n",
    "* text that is longer and blockier, contains multiple sentences, doesn't have emphasis (e.g. bolding, underlining) is more likely to be narrative text.\n",
    "\n",
    "Let's take the above file name and pass it to the unstructured API where the unstructured.io model is setup."
   ]
  },
  {
   "cell_type": "code",
   "execution_count": null,
   "id": "dcab4d73-f062-47ff-bc43-43b50753be6d",
   "metadata": {
    "tags": []
   },
   "outputs": [],
   "source": [
    "#Process the PDF.  And remember that it may take a minute or so to process the PDF.\n",
    "\n",
    "filename = \"example_files/CP_CHRT_C_G4M3BA_De-identified.pdf\"\n",
    "with open(filename, \"rb\") as f:\n",
    "    files=shared.Files(\n",
    "        content=f.read(), \n",
    "        file_name=filename,\n",
    "    )\n",
    "\n",
    "req = shared.PartitionParameters(\n",
    "    files=files,\n",
    "    strategy='hi_res',\n",
    "    pdf_infer_table_structure=True,\n",
    "    languages=[\"eng\"],\n",
    ")\n",
    "try:\n",
    "    resp = s.general.partition(req)\n",
    "    print(json.dumps(resp.elements[:3], indent=2))\n",
    "except SDKError as e:\n",
    "    print(e)"
   ]
  },
  {
   "cell_type": "markdown",
   "id": "baa80e5a-97a6-4aa5-aa67-4b65864cb6f4",
   "metadata": {},
   "source": [
    "Take a look at the above processed PDF.  Check if the text labelled as 'Title' or 'NarrativeText' is accurate.  \n",
    "\n",
    "Next, let's explore the JSON using the IPython JSON display function."
   ]
  },
  {
   "cell_type": "code",
   "execution_count": null,
   "id": "7c44f3c8-cd94-440b-a9cc-01db643f44d9",
   "metadata": {
    "tags": []
   },
   "outputs": [],
   "source": [
    "JSON(json.dumps(resp.elements, indent=2))"
   ]
  },
  {
   "cell_type": "markdown",
   "id": "5a59f7dd-f39f-4bc1-982a-22c21fd6565f",
   "metadata": {},
   "source": [
    "Compare the above document types (and associated text).  Do they match the document types (e.g. Title, Narrative text, List items) within the original PDF?  \n",
    "\n",
    "Note: that you are able to visually identify that 'SURGICAL HISTORY' is a title.  And it would get the same normalized type as a title serialized from a ppt or HTML file.\n",
    "\n",
    "Also note the 'element_id' that is created and associated with each text type.\n",
    "\n",
    "Finally, look at the 'metadata' tag.  If you expand it, you will see the 'name' and the 'page number' of the document that this structured data was produced from.  \n",
    "\n",
    "Now that we were able to obtain document elements and metadata, we are ready to perform metadata extraction and chunking."
   ]
  },
  {
   "cell_type": "code",
   "execution_count": null,
   "id": "ba1415fc-e652-4ecc-94ac-0867d101c919",
   "metadata": {},
   "outputs": [],
   "source": []
  },
  {
   "cell_type": "code",
   "execution_count": null,
   "id": "11073a73-f21d-4e1e-94a7-1f4a57cbc95f",
   "metadata": {},
   "outputs": [],
   "source": []
  },
  {
   "cell_type": "code",
   "execution_count": null,
   "id": "a20d475a-1185-4185-9f57-794e1536e4c9",
   "metadata": {},
   "outputs": [],
   "source": []
  },
  {
   "cell_type": "code",
   "execution_count": null,
   "id": "afd68abd-967a-4ee1-bd12-0309e595cae4",
   "metadata": {},
   "outputs": [],
   "source": []
  },
  {
   "cell_type": "code",
   "execution_count": null,
   "id": "2eee2322-6829-4d3a-9666-6b6440c7d074",
   "metadata": {},
   "outputs": [],
   "source": []
  }
 ],
 "metadata": {
  "kernelspec": {
   "display_name": "Python 3.9",
   "language": "python",
   "name": "python3"
  },
  "language_info": {
   "codemirror_mode": {
    "name": "ipython",
    "version": 3
   },
   "file_extension": ".py",
   "mimetype": "text/x-python",
   "name": "python",
   "nbconvert_exporter": "python",
   "pygments_lexer": "ipython3",
   "version": "3.9.16"
  }
 },
 "nbformat": 4,
 "nbformat_minor": 5
}
