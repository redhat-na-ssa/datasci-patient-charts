{
 "cells": [
  {
   "cell_type": "markdown",
   "id": "5498e4f6-9129-4efa-84dd-9d77220635bc",
   "metadata": {},
   "source": [
    "# 1 - Normalize Content"
   ]
  },
  {
   "cell_type": "markdown",
   "id": "b91844a6-62c2-4483-bc48-b3b717f0648f",
   "metadata": {},
   "source": [
    "This Lab material is an adaptation of the course 'Preprocessing Unstructured Data for LLM Applications', Coursera, March 2024\n",
    "\n",
    "In this jupyter notebook we will learn how to normalize pdf content."
   ]
  },
  {
   "cell_type": "code",
   "execution_count": 4,
   "id": "e6a3cc98-7de7-4d33-98fa-dcc1bf04eb61",
   "metadata": {},
   "outputs": [
    {
     "name": "stdout",
     "output_type": "stream",
     "text": [
      "Requirement already satisfied: unstructured-client in /opt/app-root/lib/python3.9/site-packages (0.27.0)\n",
      "Requirement already satisfied: python-dateutil==2.8.2 in /opt/app-root/lib/python3.9/site-packages (from unstructured-client) (2.8.2)\n",
      "Requirement already satisfied: typing-inspect<0.10.0,>=0.9.0 in /opt/app-root/lib/python3.9/site-packages (from unstructured-client) (0.9.0)\n",
      "Requirement already satisfied: eval-type-backport<0.3.0,>=0.2.0 in /opt/app-root/lib/python3.9/site-packages (from unstructured-client) (0.2.0)\n",
      "Requirement already satisfied: cryptography>=3.1 in /opt/app-root/lib/python3.9/site-packages (from unstructured-client) (40.0.2)\n",
      "Requirement already satisfied: pydantic<2.10.0,>=2.9.2 in /opt/app-root/lib/python3.9/site-packages (from unstructured-client) (2.9.2)\n",
      "Requirement already satisfied: jsonpath-python<2.0.0,>=1.0.6 in /opt/app-root/lib/python3.9/site-packages (from unstructured-client) (1.0.6)\n",
      "Requirement already satisfied: pypdf>=4.0 in /opt/app-root/lib/python3.9/site-packages (from unstructured-client) (5.1.0)\n",
      "Requirement already satisfied: httpx>=0.27.0 in /opt/app-root/lib/python3.9/site-packages (from unstructured-client) (0.27.2)\n",
      "Requirement already satisfied: nest-asyncio>=1.6.0 in /opt/app-root/lib/python3.9/site-packages (from unstructured-client) (1.6.0)\n",
      "Requirement already satisfied: requests-toolbelt>=1.0.0 in /opt/app-root/lib/python3.9/site-packages (from unstructured-client) (1.0.0)\n",
      "Requirement already satisfied: six>=1.5 in /opt/app-root/lib/python3.9/site-packages (from python-dateutil==2.8.2->unstructured-client) (1.16.0)\n",
      "Requirement already satisfied: cffi>=1.12 in /opt/app-root/lib/python3.9/site-packages (from cryptography>=3.1->unstructured-client) (1.17.0)\n",
      "Requirement already satisfied: certifi in /opt/app-root/lib/python3.9/site-packages (from httpx>=0.27.0->unstructured-client) (2024.7.4)\n",
      "Requirement already satisfied: idna in /opt/app-root/lib/python3.9/site-packages (from httpx>=0.27.0->unstructured-client) (3.8)\n",
      "Requirement already satisfied: anyio in /opt/app-root/lib/python3.9/site-packages (from httpx>=0.27.0->unstructured-client) (4.4.0)\n",
      "Requirement already satisfied: sniffio in /opt/app-root/lib/python3.9/site-packages (from httpx>=0.27.0->unstructured-client) (1.3.1)\n",
      "Requirement already satisfied: httpcore==1.* in /opt/app-root/lib/python3.9/site-packages (from httpx>=0.27.0->unstructured-client) (1.0.6)\n",
      "Requirement already satisfied: h11<0.15,>=0.13 in /opt/app-root/lib/python3.9/site-packages (from httpcore==1.*->httpx>=0.27.0->unstructured-client) (0.14.0)\n",
      "Requirement already satisfied: pydantic-core==2.23.4 in /opt/app-root/lib/python3.9/site-packages (from pydantic<2.10.0,>=2.9.2->unstructured-client) (2.23.4)\n",
      "Requirement already satisfied: typing-extensions>=4.6.1 in /opt/app-root/lib/python3.9/site-packages (from pydantic<2.10.0,>=2.9.2->unstructured-client) (4.12.2)\n",
      "Requirement already satisfied: annotated-types>=0.6.0 in /opt/app-root/lib/python3.9/site-packages (from pydantic<2.10.0,>=2.9.2->unstructured-client) (0.7.0)\n",
      "Requirement already satisfied: requests<3.0.0,>=2.0.1 in /opt/app-root/lib/python3.9/site-packages (from requests-toolbelt>=1.0.0->unstructured-client) (2.32.3)\n",
      "Requirement already satisfied: mypy-extensions>=0.3.0 in /opt/app-root/lib/python3.9/site-packages (from typing-inspect<0.10.0,>=0.9.0->unstructured-client) (1.0.0)\n",
      "Requirement already satisfied: pycparser in /opt/app-root/lib/python3.9/site-packages (from cffi>=1.12->cryptography>=3.1->unstructured-client) (2.22)\n",
      "Requirement already satisfied: charset-normalizer<4,>=2 in /opt/app-root/lib/python3.9/site-packages (from requests<3.0.0,>=2.0.1->requests-toolbelt>=1.0.0->unstructured-client) (3.3.2)\n",
      "Requirement already satisfied: urllib3<3,>=1.21.1 in /opt/app-root/lib/python3.9/site-packages (from requests<3.0.0,>=2.0.1->requests-toolbelt>=1.0.0->unstructured-client) (1.26.19)\n",
      "Requirement already satisfied: exceptiongroup>=1.0.2 in /opt/app-root/lib/python3.9/site-packages (from anyio->httpx>=0.27.0->unstructured-client) (1.2.2)\n",
      "\n",
      "\u001b[1m[\u001b[0m\u001b[34;49mnotice\u001b[0m\u001b[1;39;49m]\u001b[0m\u001b[39;49m A new release of pip available: \u001b[0m\u001b[31;49m22.2.2\u001b[0m\u001b[39;49m -> \u001b[0m\u001b[32;49m24.3.1\u001b[0m\n",
      "\u001b[1m[\u001b[0m\u001b[34;49mnotice\u001b[0m\u001b[1;39;49m]\u001b[0m\u001b[39;49m To update, run: \u001b[0m\u001b[32;49mpip install --upgrade pip\u001b[0m\n"
     ]
    }
   ],
   "source": [
    "#!pip install unstructured_client\n",
    "!pip install unstructured-client"
   ]
  },
  {
   "cell_type": "code",
   "execution_count": 5,
   "id": "c3ec6839-a1fe-4eaf-93ab-4ffa3ee585cd",
   "metadata": {},
   "outputs": [],
   "source": [
    "import os, json\n",
    "\n",
    "import unstructured_client\n",
    "from unstructured_client.models import shared"
   ]
  },
  {
   "cell_type": "markdown",
   "id": "d109dd70-bef4-4656-8b88-846ce03e11a0",
   "metadata": {},
   "source": [
    "## Examine PDF Files\n",
    "\n",
    "In the **datasci-patient-charts/example_files** directory, double click on each pdf to see what example data the team has to work with.\n",
    "Closely examine the file **CP_CHRT_C_G4M3BA_De-identified.pdf**  In this lab we will work with this pdf. \n",
    "\n",
    "PDFs are different than processing HTML or ppts.  Where in those documents you are looking at semi-structured information for clues on how to divide element types within the documents. In pdfs you are going to look for things like formatting.  For example:\n",
    "* a piece of text that is 'bolded' or 'underlined' may more likely be a title.\n",
    "* text that is longer and blockier, contains multiple sentences, doesn't have emphasis (e.g. bolding, underlining) is more likely to be narrative text.\n",
    "\n",
    "Let's take the example medical file (CP_CHRT_C_G4M3BA_De-identified.pdf) and pass it to the unstructured API where the unstructured.io model is setup."
   ]
  },
  {
   "cell_type": "code",
   "execution_count": 6,
   "id": "f4a089fd-9fb5-48a5-bd61-597c50368751",
   "metadata": {},
   "outputs": [
    {
     "name": "stderr",
     "output_type": "stream",
     "text": [
      "INFO: HTTP Request: POST https://api.unstructured.io/general/v0/general \"HTTP/1.1 200 OK\"\n"
     ]
    },
    {
     "name": "stdout",
     "output_type": "stream",
     "text": [
      "{'type': 'Image', 'element_id': 'df79fa92715475e38b3320154fa85207', 'text': 'PAST MEDICAL HISTORY ', 'metadata': {'filetype': 'application/pdf', 'languages': ['eng'], 'page_number': 1, 'filename': 'CP_CHRT_C_G4M3BA_De-identified.pdf'}}\n"
     ]
    }
   ],
   "source": [
    "#UNSTRUCTURED_API_URL='https://api.unstructured.io/general/v0/general'\n",
    "#UNSTRUCTURED_API_KEY='tkp3I9iABLDbcJvfgGvnELB4Y2usgn'\n",
    "\n",
    "client = unstructured_client.UnstructuredClient(\n",
    "    api_key_auth=os.getenv(\"UNSTRUCTURED_API_KEY\"),\n",
    "    server_url=os.getenv(\"UNSTRUCTURED_API_URL\"),\n",
    "    #api_key_auth=UNSTRUCTURED_API_KEY,\n",
    "    #server_url=UNSTRUCTURED_API_URL,\n",
    ")\n",
    "\n",
    "#filename = \"PATH_TO_INPUT_FILE\"\n",
    "filename = \"example_files/CP_CHRT_C_G4M3BA_De-identified.pdf\"\n",
    "\n",
    "req = {\n",
    "    \"partition_parameters\": {\n",
    "        \"files\": {\n",
    "            \"content\": open(filename, \"rb\"),\n",
    "            \"file_name\": filename,\n",
    "        },\n",
    "        \"strategy\": shared.Strategy.HI_RES,\n",
    "        \"languages\": ['eng'],\n",
    "        \"split_pdf_page\": True,            # If True, splits the PDF file into smaller chunks of pages.\n",
    "        \"split_pdf_allow_failed\": True,    # If True, the partitioning continues even if some pages fail.\n",
    "        \"split_pdf_concurrency_level\": 15  # Set the number of concurrent request to the maximum value: 15.\n",
    "    }\n",
    "}\n",
    "\n",
    "try:\n",
    "    res = client.general.partition(request=req)\n",
    "    element_dicts = [element for element in res.elements]\n",
    "\n",
    "    # Print the processed data's first element only.\n",
    "    print(element_dicts[0])\n",
    "\n",
    "    # Write the processed data to a local file.\n",
    "    json_elements = json.dumps(element_dicts, indent=2)\n",
    "\n",
    "    with open(\"PATH_TO_OUTPUT_FILE\", \"w\") as file:\n",
    "        file.write(json_elements)\n",
    "except Exception as e:\n",
    "    print(e)"
   ]
  },
  {
   "cell_type": "code",
   "execution_count": null,
   "id": "28dca889-ed27-4bb7-8fbb-77980dbfcb05",
   "metadata": {},
   "outputs": [],
   "source": []
  },
  {
   "cell_type": "markdown",
   "id": "842263df-9bd8-4620-9999-5ef28ef2f14f",
   "metadata": {},
   "source": [
    "\n",
    "Examine the original PDF example_files/**CP_CHRT_C_G4M3BA_De-identified.pdf** and the resulting json/**elements.json** file.\n",
    "\n",
    "Compare the document types (and associated text). Do they match the document types (e.g. Title, Narrative text, List items) within the original PDF?\n",
    "\n",
    "Note: that you are able to visually identify that 'SURGICAL HISTORY' is a title. And it would get the same normalized type as a title serialized from a ppt or HTML file.\n",
    "\n",
    "Also note the 'element_id' that is created and associated with each text type.\n",
    "\n",
    "Finally, look at the 'metadata' tag. If you expand it, you will see the 'name' and the 'page number' of the document that this structured data was produced from.\n",
    "\n",
    "Now that we were able to obtain document elements and metadata, we are ready to perform metadata extraction and chunking."
   ]
  },
  {
   "cell_type": "code",
   "execution_count": null,
   "id": "9757a9c6-4a9d-4fe7-bc3a-75a28fa4ba00",
   "metadata": {},
   "outputs": [],
   "source": []
  }
 ],
 "metadata": {
  "kernelspec": {
   "display_name": "Python 3.9",
   "language": "python",
   "name": "python3"
  },
  "language_info": {
   "codemirror_mode": {
    "name": "ipython",
    "version": 3
   },
   "file_extension": ".py",
   "mimetype": "text/x-python",
   "name": "python",
   "nbconvert_exporter": "python",
   "pygments_lexer": "ipython3",
   "version": "3.9.16"
  }
 },
 "nbformat": 4,
 "nbformat_minor": 5
}
