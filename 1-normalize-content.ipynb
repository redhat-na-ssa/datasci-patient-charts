{
 "cells": [
  {
   "cell_type": "markdown",
   "id": "6ef57eb5-2295-44fb-81d9-4351769e8f4e",
   "metadata": {},
   "source": [
    "# 1 - Normalize Content"
   ]
  },
  {
   "cell_type": "markdown",
   "id": "f0f2712f-8424-41dc-8155-a5787a9f2d9f",
   "metadata": {},
   "source": [
    "This Lab material is an adaptation of the course 'Preprocessing Unstructured Data for LLM Applications', Coursera, March 2024\n",
    "\n",
    "In this jupyter notebook we will learn how to normalize pdf content."
   ]
  },
  {
   "cell_type": "code",
   "execution_count": null,
   "id": "9b64bea9",
   "metadata": {
    "tags": []
   },
   "outputs": [],
   "source": [
    "# Install unstructured libraries\n",
    "\n",
    "!pip install unstructured_client\n",
    "!pip install unstructured"
   ]
  },
  {
   "cell_type": "code",
   "execution_count": null,
   "id": "4ec2430d-cac6-406e-a007-123dc97df0e2",
   "metadata": {
    "tags": []
   },
   "outputs": [],
   "source": [
    "# Warning control\n",
    "import warnings\n",
    "warnings.filterwarnings('ignore')"
   ]
  },
  {
   "cell_type": "code",
   "execution_count": null,
   "id": "591f213d-f54b-4c91-ae73-bcd2c7a4359e",
   "metadata": {
    "tags": []
   },
   "outputs": [],
   "source": [
    "from IPython.display import JSON\n",
    "\n",
    "import json\n",
    "\n",
    "from unstructured_client import UnstructuredClient\n",
    "from unstructured_client.models import shared\n",
    "from unstructured_client.models.errors import SDKError\n",
    "\n",
    "from unstructured.partition.html import partition_html\n",
    "#from unstructured.partition.pptx import partition_pptx\n",
    "from unstructured.staging.base import dict_to_elements, elements_to_json"
   ]
  },
  {
   "cell_type": "code",
   "execution_count": null,
   "id": "bdc3b45c-2c73-4034-bf04-072bd0cee6f6",
   "metadata": {
    "tags": []
   },
   "outputs": [],
   "source": [
    "#Use the DLAI_API_KEY & DLAI_API_URL that you obtained from Unstructured.io\n",
    "\n",
    "#DLAI_API_KEY = 'your DLAI_API_KEY'\n",
    "#DLAI_API_URL = 'your DLAI_API_URL'\n",
    "\n",
    "#Example\n",
    "DLAI_API_KEY = 'tkp3I9iABLDbcJvfgGvnELB4Y2usgn'\n",
    "DLAI_API_URL = 'https://naaissa-62qdjqlm.api.unstructuredapp.io/'\n",
    "\n",
    "s = UnstructuredClient(\n",
    "    api_key_auth=DLAI_API_KEY,\n",
    "    server_url=DLAI_API_URL,\n",
    ")"
   ]
  },
  {
   "cell_type": "markdown",
   "id": "25c7871b-c6ac-44ee-b985-d2e33154df14",
   "metadata": {},
   "source": [
    "## Examine PDF Files\n",
    "\n",
    "In the **datasci-patient-charts/example_files** directory, double click on each pdf to see what example data the team has to work with.\n",
    "Closely examine the file CP_CHRT_C_G4M3BA_De-identified.pdf  In this lab we will work with this pdf. \n",
    "\n",
    "PDFs are different than processing HTML or ppts.  Where in those documents you are looking at semi-structured information for clues on how to divide element types within the documents. In pdfs you are going to look for things like formatting.  For example:\n",
    "* a piece of text that is 'bolded' or 'underlined' may more likely be a title.\n",
    "* text that is longer and blockier, contains multiple sentences, doesn't have emphasis (e.g. bolding, underlining) is more likely to be narrative text.\n",
    "\n",
    "Let's take the above file name and pass it to the unstructured API where the unstructured.io model is setup."
   ]
  },
  {
   "cell_type": "code",
   "execution_count": null,
   "id": "dcab4d73-f062-47ff-bc43-43b50753be6d",
   "metadata": {
    "tags": []
   },
   "outputs": [],
   "source": [
    "#Process the PDF.  And remember that it may take a minute or so to process the PDF.\n",
    "\n",
    "filename = \"example_files/CP_CHRT_C_G4M3BA_De-identified.pdf\"\n",
    "with open(filename, \"rb\") as f:\n",
    "    files=shared.Files(\n",
    "        content=f.read(), \n",
    "        file_name=filename,\n",
    "    )\n",
    "\n",
    "req = shared.PartitionParameters(\n",
    "    files=files,\n",
    "    strategy='hi_res',\n",
    "    pdf_infer_table_structure=True,\n",
    "    languages=[\"eng\"],\n",
    ")\n",
    "try:\n",
    "    resp = s.general.partition(req)\n",
    "    print(json.dumps(resp.elements[:3], indent=2))\n",
    "except SDKError as e:\n",
    "    print(e)"
   ]
  },
  {
   "cell_type": "markdown",
   "id": "baa80e5a-97a6-4aa5-aa67-4b65864cb6f4",
   "metadata": {},
   "source": [
    "Take a look at the above processed PDF.  Check if the text labelled as 'Title' or 'NarrativeText' is accurate.  \n",
    "\n",
    "Next, let's explore the JSON using the IPython JSON display function."
   ]
  },
  {
   "cell_type": "code",
   "execution_count": null,
   "id": "7c44f3c8-cd94-440b-a9cc-01db643f44d9",
   "metadata": {
    "tags": []
   },
   "outputs": [],
   "source": [
    "JSON(json.dumps(resp.elements, indent=2))"
   ]
  },
  {
   "cell_type": "markdown",
   "id": "65f9dc9b-66bb-4884-8b0c-5fb463ee8814",
   "metadata": {},
   "source": [
    "Comprare the above text types (and associated text).  Do they match the text types (e.g. Title, Narrative text, List items) within the original PDF?\n",
    "\n",
    "Also note the 'element_id' that is created and associated with each text type.\n",
    "\n",
    "Finally, look at the 'metadata' that is associated with each element.  The meta data reveals which file type(s), page(s) and file(s) the elements were extracted from."
   ]
  },
  {
   "cell_type": "code",
   "execution_count": null,
   "id": "ba1415fc-e652-4ecc-94ac-0867d101c919",
   "metadata": {},
   "outputs": [],
   "source": []
  },
  {
   "cell_type": "code",
   "execution_count": null,
   "id": "11073a73-f21d-4e1e-94a7-1f4a57cbc95f",
   "metadata": {},
   "outputs": [],
   "source": []
  },
  {
   "cell_type": "code",
   "execution_count": null,
   "id": "a20d475a-1185-4185-9f57-794e1536e4c9",
   "metadata": {},
   "outputs": [],
   "source": []
  },
  {
   "cell_type": "code",
   "execution_count": null,
   "id": "afd68abd-967a-4ee1-bd12-0309e595cae4",
   "metadata": {},
   "outputs": [],
   "source": []
  },
  {
   "cell_type": "code",
   "execution_count": null,
   "id": "2eee2322-6829-4d3a-9666-6b6440c7d074",
   "metadata": {},
   "outputs": [],
   "source": []
  }
 ],
 "metadata": {
  "kernelspec": {
   "display_name": "Python 3.9",
   "language": "python",
   "name": "python3"
  },
  "language_info": {
   "codemirror_mode": {
    "name": "ipython",
    "version": 3
   },
   "file_extension": ".py",
   "mimetype": "text/x-python",
   "name": "python",
   "nbconvert_exporter": "python",
   "pygments_lexer": "ipython3",
   "version": "3.9.16"
  }
 },
 "nbformat": 4,
 "nbformat_minor": 5
}
