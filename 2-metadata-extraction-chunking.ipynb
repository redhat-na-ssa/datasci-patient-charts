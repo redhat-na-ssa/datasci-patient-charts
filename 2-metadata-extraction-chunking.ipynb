{
 "cells": [
  {
   "cell_type": "markdown",
   "id": "bfbbd360-db59-405e-8e6d-4c811cfdd7e7",
   "metadata": {},
   "source": [
    "# 2 - Metadata Extraction and Chunking"
   ]
  },
  {
   "cell_type": "markdown",
   "id": "ec895ee8-8971-4894-bc1b-de6364c82d49",
   "metadata": {},
   "source": [
    "This Lab material is an adaptation of the course 'Preprocessing Unstructured Data for LLM Applications', Coursera, March 2024.  \n",
    "\n",
    "There is also a new Unstructured.io SDK available:  https://docs.unstructured.io/api-reference/api-services/examples#ingest-python\n",
    "\n",
    "In the previous jupyter notebook, we were able to obtain document elements and metadata.  In this jupyter notebook, we are now ready to perform metadata extraction and chunking.\n",
    "\n",
    "Let's get started!"
   ]
  },
  {
   "cell_type": "code",
   "execution_count": 1,
   "id": "b5335856-781b-43e7-b1b8-4b621b3d75a6",
   "metadata": {
    "tags": []
   },
   "outputs": [
    {
     "name": "stdout",
     "output_type": "stream",
     "text": [
      "Requirement already satisfied: unstructured_client in /opt/app-root/lib/python3.9/site-packages (0.27.0)\n",
      "Requirement already satisfied: jsonpath-python<2.0.0,>=1.0.6 in /opt/app-root/lib/python3.9/site-packages (from unstructured_client) (1.0.6)\n",
      "Requirement already satisfied: httpx>=0.27.0 in /opt/app-root/lib/python3.9/site-packages (from unstructured_client) (0.27.2)\n",
      "Requirement already satisfied: typing-inspect<0.10.0,>=0.9.0 in /opt/app-root/lib/python3.9/site-packages (from unstructured_client) (0.9.0)\n",
      "Requirement already satisfied: cryptography>=3.1 in /opt/app-root/lib/python3.9/site-packages (from unstructured_client) (40.0.2)\n",
      "Requirement already satisfied: pypdf>=4.0 in /opt/app-root/lib/python3.9/site-packages (from unstructured_client) (5.1.0)\n",
      "Requirement already satisfied: requests-toolbelt>=1.0.0 in /opt/app-root/lib/python3.9/site-packages (from unstructured_client) (1.0.0)\n",
      "Requirement already satisfied: python-dateutil==2.8.2 in /opt/app-root/lib/python3.9/site-packages (from unstructured_client) (2.8.2)\n",
      "Requirement already satisfied: eval-type-backport<0.3.0,>=0.2.0 in /opt/app-root/lib/python3.9/site-packages (from unstructured_client) (0.2.0)\n",
      "Requirement already satisfied: nest-asyncio>=1.6.0 in /opt/app-root/lib/python3.9/site-packages (from unstructured_client) (1.6.0)\n",
      "Requirement already satisfied: pydantic<2.10.0,>=2.9.2 in /opt/app-root/lib/python3.9/site-packages (from unstructured_client) (2.9.2)\n",
      "Requirement already satisfied: six>=1.5 in /opt/app-root/lib/python3.9/site-packages (from python-dateutil==2.8.2->unstructured_client) (1.16.0)\n",
      "Requirement already satisfied: cffi>=1.12 in /opt/app-root/lib/python3.9/site-packages (from cryptography>=3.1->unstructured_client) (1.17.0)\n",
      "Requirement already satisfied: certifi in /opt/app-root/lib/python3.9/site-packages (from httpx>=0.27.0->unstructured_client) (2024.7.4)\n",
      "Requirement already satisfied: anyio in /opt/app-root/lib/python3.9/site-packages (from httpx>=0.27.0->unstructured_client) (4.4.0)\n",
      "Requirement already satisfied: idna in /opt/app-root/lib/python3.9/site-packages (from httpx>=0.27.0->unstructured_client) (3.8)\n",
      "Requirement already satisfied: sniffio in /opt/app-root/lib/python3.9/site-packages (from httpx>=0.27.0->unstructured_client) (1.3.1)\n",
      "Requirement already satisfied: httpcore==1.* in /opt/app-root/lib/python3.9/site-packages (from httpx>=0.27.0->unstructured_client) (1.0.6)\n",
      "Requirement already satisfied: h11<0.15,>=0.13 in /opt/app-root/lib/python3.9/site-packages (from httpcore==1.*->httpx>=0.27.0->unstructured_client) (0.14.0)\n",
      "Requirement already satisfied: typing-extensions>=4.6.1 in /opt/app-root/lib/python3.9/site-packages (from pydantic<2.10.0,>=2.9.2->unstructured_client) (4.12.2)\n",
      "Requirement already satisfied: annotated-types>=0.6.0 in /opt/app-root/lib/python3.9/site-packages (from pydantic<2.10.0,>=2.9.2->unstructured_client) (0.7.0)\n",
      "Requirement already satisfied: pydantic-core==2.23.4 in /opt/app-root/lib/python3.9/site-packages (from pydantic<2.10.0,>=2.9.2->unstructured_client) (2.23.4)\n",
      "Requirement already satisfied: requests<3.0.0,>=2.0.1 in /opt/app-root/lib/python3.9/site-packages (from requests-toolbelt>=1.0.0->unstructured_client) (2.32.3)\n",
      "Requirement already satisfied: mypy-extensions>=0.3.0 in /opt/app-root/lib/python3.9/site-packages (from typing-inspect<0.10.0,>=0.9.0->unstructured_client) (1.0.0)\n",
      "Requirement already satisfied: pycparser in /opt/app-root/lib/python3.9/site-packages (from cffi>=1.12->cryptography>=3.1->unstructured_client) (2.22)\n",
      "Requirement already satisfied: charset-normalizer<4,>=2 in /opt/app-root/lib/python3.9/site-packages (from requests<3.0.0,>=2.0.1->requests-toolbelt>=1.0.0->unstructured_client) (3.3.2)\n",
      "Requirement already satisfied: urllib3<3,>=1.21.1 in /opt/app-root/lib/python3.9/site-packages (from requests<3.0.0,>=2.0.1->requests-toolbelt>=1.0.0->unstructured_client) (1.26.19)\n",
      "Requirement already satisfied: exceptiongroup>=1.0.2 in /opt/app-root/lib/python3.9/site-packages (from anyio->httpx>=0.27.0->unstructured_client) (1.2.2)\n",
      "\n",
      "\u001b[1m[\u001b[0m\u001b[34;49mnotice\u001b[0m\u001b[1;39;49m]\u001b[0m\u001b[39;49m A new release of pip available: \u001b[0m\u001b[31;49m22.2.2\u001b[0m\u001b[39;49m -> \u001b[0m\u001b[32;49m24.3.1\u001b[0m\n",
      "\u001b[1m[\u001b[0m\u001b[34;49mnotice\u001b[0m\u001b[1;39;49m]\u001b[0m\u001b[39;49m To update, run: \u001b[0m\u001b[32;49mpip install --upgrade pip\u001b[0m\n",
      "Collecting unstructured\n",
      "  Downloading unstructured-0.16.5-py3-none-any.whl (1.7 MB)\n",
      "\u001b[2K     \u001b[90m━━━━━━━━━━━━━━━━━━━━━━━━━━━━━━━━━━━━━━━━\u001b[0m \u001b[32m1.7/1.7 MB\u001b[0m \u001b[31m31.0 MB/s\u001b[0m eta \u001b[36m0:00:00\u001b[0m \u001b[36m0:00:01\u001b[0m\n",
      "\u001b[?25hCollecting python-iso639\n",
      "  Downloading python_iso639-2024.10.22-py3-none-any.whl (274 kB)\n",
      "\u001b[2K     \u001b[90m━━━━━━━━━━━━━━━━━━━━━━━━━━━━━━━━━━━━━\u001b[0m \u001b[32m274.9/274.9 kB\u001b[0m \u001b[31m214.0 MB/s\u001b[0m eta \u001b[36m0:00:00\u001b[0m\n",
      "\u001b[?25hCollecting filetype\n",
      "  Downloading filetype-1.2.0-py2.py3-none-any.whl (19 kB)\n",
      "Collecting emoji\n",
      "  Downloading emoji-2.14.0-py3-none-any.whl (586 kB)\n",
      "\u001b[2K     \u001b[90m━━━━━━━━━━━━━━━━━━━━━━━━━━━━━━━━━━━━━\u001b[0m \u001b[32m586.9/586.9 kB\u001b[0m \u001b[31m213.3 MB/s\u001b[0m eta \u001b[36m0:00:00\u001b[0m\n",
      "\u001b[?25hRequirement already satisfied: typing-extensions in /opt/app-root/lib/python3.9/site-packages (from unstructured) (4.12.2)\n",
      "Collecting python-oxmsg\n",
      "  Downloading python_oxmsg-0.0.1-py3-none-any.whl (31 kB)\n",
      "Requirement already satisfied: requests in /opt/app-root/lib/python3.9/site-packages (from unstructured) (2.32.3)\n",
      "Collecting lxml\n",
      "  Downloading lxml-5.3.0-cp39-cp39-manylinux_2_28_x86_64.whl (5.0 MB)\n",
      "\u001b[2K     \u001b[90m━━━━━━━━━━━━━━━━━━━━━━━━━━━━━━━━━━━━━━━━\u001b[0m \u001b[32m5.0/5.0 MB\u001b[0m \u001b[31m185.1 MB/s\u001b[0m eta \u001b[36m0:00:00\u001b[0m\n",
      "\u001b[?25hRequirement already satisfied: psutil in /opt/app-root/lib/python3.9/site-packages (from unstructured) (5.9.8)\n",
      "Collecting nltk\n",
      "  Downloading nltk-3.9.1-py3-none-any.whl (1.5 MB)\n",
      "\u001b[2K     \u001b[90m━━━━━━━━━━━━━━━━━━━━━━━━━━━━━━━━━━━━━━━━\u001b[0m \u001b[32m1.5/1.5 MB\u001b[0m \u001b[31m220.9 MB/s\u001b[0m eta \u001b[36m0:00:00\u001b[0m\n",
      "\u001b[?25hCollecting chardet\n",
      "  Downloading chardet-5.2.0-py3-none-any.whl (199 kB)\n",
      "\u001b[2K     \u001b[90m━━━━━━━━━━━━━━━━━━━━━━━━━━━━━━━━━━━━━\u001b[0m \u001b[32m199.4/199.4 kB\u001b[0m \u001b[31m204.7 MB/s\u001b[0m eta \u001b[36m0:00:00\u001b[0m\n",
      "\u001b[?25hCollecting dataclasses-json\n",
      "  Downloading dataclasses_json-0.6.7-py3-none-any.whl (28 kB)\n",
      "Collecting rapidfuzz\n",
      "  Downloading rapidfuzz-3.10.1-cp39-cp39-manylinux_2_17_x86_64.manylinux2014_x86_64.whl (3.1 MB)\n",
      "\u001b[2K     \u001b[90m━━━━━━━━━━━━━━━━━━━━━━━━━━━━━━━━━━━━━━━━\u001b[0m \u001b[32m3.1/3.1 MB\u001b[0m \u001b[31m183.0 MB/s\u001b[0m eta \u001b[36m0:00:00\u001b[0m\n",
      "\u001b[?25hCollecting langdetect\n",
      "  Downloading langdetect-1.0.9.tar.gz (981 kB)\n",
      "\u001b[2K     \u001b[90m━━━━━━━━━━━━━━━━━━━━━━━━━━━━━━━━━━━━━\u001b[0m \u001b[32m981.5/981.5 kB\u001b[0m \u001b[31m203.7 MB/s\u001b[0m eta \u001b[36m0:00:00\u001b[0m\n",
      "\u001b[?25h  Preparing metadata (setup.py) ... \u001b[?25ldone\n",
      "\u001b[?25hRequirement already satisfied: numpy<2 in /opt/app-root/lib/python3.9/site-packages (from unstructured) (1.26.4)\n",
      "Collecting python-magic\n",
      "  Downloading python_magic-0.4.27-py2.py3-none-any.whl (13 kB)\n",
      "Requirement already satisfied: tqdm in /opt/app-root/lib/python3.9/site-packages (from unstructured) (4.66.5)\n",
      "Collecting html5lib\n",
      "  Downloading html5lib-1.1-py2.py3-none-any.whl (112 kB)\n",
      "\u001b[2K     \u001b[90m━━━━━━━━━━━━━━━━━━━━━━━━━━━━━━━━━━━━━\u001b[0m \u001b[32m112.2/112.2 kB\u001b[0m \u001b[31m202.9 MB/s\u001b[0m eta \u001b[36m0:00:00\u001b[0m\n",
      "\u001b[?25hRequirement already satisfied: beautifulsoup4 in /opt/app-root/lib/python3.9/site-packages (from unstructured) (4.12.3)\n",
      "Requirement already satisfied: wrapt in /opt/app-root/lib/python3.9/site-packages (from unstructured) (1.16.0)\n",
      "Requirement already satisfied: unstructured-client in /opt/app-root/lib/python3.9/site-packages (from unstructured) (0.27.0)\n",
      "Requirement already satisfied: backoff in /opt/app-root/lib/python3.9/site-packages (from unstructured) (2.2.1)\n",
      "Requirement already satisfied: soupsieve>1.2 in /opt/app-root/lib/python3.9/site-packages (from beautifulsoup4->unstructured) (2.6)\n",
      "Requirement already satisfied: typing-inspect<1,>=0.4.0 in /opt/app-root/lib/python3.9/site-packages (from dataclasses-json->unstructured) (0.9.0)\n",
      "Collecting marshmallow<4.0.0,>=3.18.0\n",
      "  Downloading marshmallow-3.23.1-py3-none-any.whl (49 kB)\n",
      "\u001b[2K     \u001b[90m━━━━━━━━━━━━━━━━━━━━━━━━━━━━━━━━━━━━━━━\u001b[0m \u001b[32m49.5/49.5 kB\u001b[0m \u001b[31m179.5 MB/s\u001b[0m eta \u001b[36m0:00:00\u001b[0m\n",
      "\u001b[?25hRequirement already satisfied: webencodings in /opt/app-root/lib/python3.9/site-packages (from html5lib->unstructured) (0.5.1)\n",
      "Requirement already satisfied: six>=1.9 in /opt/app-root/lib/python3.9/site-packages (from html5lib->unstructured) (1.16.0)\n",
      "Collecting regex>=2021.8.3\n",
      "  Downloading regex-2024.11.6-cp39-cp39-manylinux_2_17_x86_64.manylinux2014_x86_64.whl (780 kB)\n",
      "\u001b[2K     \u001b[90m━━━━━━━━━━━━━━━━━━━━━━━━━━━━━━━━━━━━━\u001b[0m \u001b[32m780.9/780.9 kB\u001b[0m \u001b[31m242.4 MB/s\u001b[0m eta \u001b[36m0:00:00\u001b[0m\n",
      "\u001b[?25hRequirement already satisfied: joblib in /opt/app-root/lib/python3.9/site-packages (from nltk->unstructured) (1.4.2)\n",
      "Requirement already satisfied: click in /opt/app-root/lib/python3.9/site-packages (from nltk->unstructured) (8.1.7)\n",
      "Collecting olefile\n",
      "  Downloading olefile-0.47-py2.py3-none-any.whl (114 kB)\n",
      "\u001b[2K     \u001b[90m━━━━━━━━━━━━━━━━━━━━━━━━━━━━━━━━━━━━━\u001b[0m \u001b[32m114.6/114.6 kB\u001b[0m \u001b[31m247.4 MB/s\u001b[0m eta \u001b[36m0:00:00\u001b[0m\n",
      "\u001b[?25hRequirement already satisfied: charset-normalizer<4,>=2 in /opt/app-root/lib/python3.9/site-packages (from requests->unstructured) (3.3.2)\n",
      "Requirement already satisfied: idna<4,>=2.5 in /opt/app-root/lib/python3.9/site-packages (from requests->unstructured) (3.8)\n",
      "Requirement already satisfied: certifi>=2017.4.17 in /opt/app-root/lib/python3.9/site-packages (from requests->unstructured) (2024.7.4)\n",
      "Requirement already satisfied: urllib3<3,>=1.21.1 in /opt/app-root/lib/python3.9/site-packages (from requests->unstructured) (1.26.19)\n",
      "Requirement already satisfied: jsonpath-python<2.0.0,>=1.0.6 in /opt/app-root/lib/python3.9/site-packages (from unstructured-client->unstructured) (1.0.6)\n",
      "Requirement already satisfied: cryptography>=3.1 in /opt/app-root/lib/python3.9/site-packages (from unstructured-client->unstructured) (40.0.2)\n",
      "Requirement already satisfied: python-dateutil==2.8.2 in /opt/app-root/lib/python3.9/site-packages (from unstructured-client->unstructured) (2.8.2)\n",
      "Requirement already satisfied: eval-type-backport<0.3.0,>=0.2.0 in /opt/app-root/lib/python3.9/site-packages (from unstructured-client->unstructured) (0.2.0)\n",
      "Requirement already satisfied: nest-asyncio>=1.6.0 in /opt/app-root/lib/python3.9/site-packages (from unstructured-client->unstructured) (1.6.0)\n",
      "Requirement already satisfied: requests-toolbelt>=1.0.0 in /opt/app-root/lib/python3.9/site-packages (from unstructured-client->unstructured) (1.0.0)\n",
      "Requirement already satisfied: pypdf>=4.0 in /opt/app-root/lib/python3.9/site-packages (from unstructured-client->unstructured) (5.1.0)\n",
      "Requirement already satisfied: pydantic<2.10.0,>=2.9.2 in /opt/app-root/lib/python3.9/site-packages (from unstructured-client->unstructured) (2.9.2)\n",
      "Requirement already satisfied: httpx>=0.27.0 in /opt/app-root/lib/python3.9/site-packages (from unstructured-client->unstructured) (0.27.2)\n",
      "Requirement already satisfied: cffi>=1.12 in /opt/app-root/lib/python3.9/site-packages (from cryptography>=3.1->unstructured-client->unstructured) (1.17.0)\n",
      "Requirement already satisfied: httpcore==1.* in /opt/app-root/lib/python3.9/site-packages (from httpx>=0.27.0->unstructured-client->unstructured) (1.0.6)\n",
      "Requirement already satisfied: sniffio in /opt/app-root/lib/python3.9/site-packages (from httpx>=0.27.0->unstructured-client->unstructured) (1.3.1)\n",
      "Requirement already satisfied: anyio in /opt/app-root/lib/python3.9/site-packages (from httpx>=0.27.0->unstructured-client->unstructured) (4.4.0)\n",
      "Requirement already satisfied: h11<0.15,>=0.13 in /opt/app-root/lib/python3.9/site-packages (from httpcore==1.*->httpx>=0.27.0->unstructured-client->unstructured) (0.14.0)\n",
      "Requirement already satisfied: packaging>=17.0 in /opt/app-root/lib/python3.9/site-packages (from marshmallow<4.0.0,>=3.18.0->dataclasses-json->unstructured) (24.1)\n",
      "Requirement already satisfied: annotated-types>=0.6.0 in /opt/app-root/lib/python3.9/site-packages (from pydantic<2.10.0,>=2.9.2->unstructured-client->unstructured) (0.7.0)\n",
      "Requirement already satisfied: pydantic-core==2.23.4 in /opt/app-root/lib/python3.9/site-packages (from pydantic<2.10.0,>=2.9.2->unstructured-client->unstructured) (2.23.4)\n",
      "Requirement already satisfied: mypy-extensions>=0.3.0 in /opt/app-root/lib/python3.9/site-packages (from typing-inspect<1,>=0.4.0->dataclasses-json->unstructured) (1.0.0)\n",
      "Requirement already satisfied: pycparser in /opt/app-root/lib/python3.9/site-packages (from cffi>=1.12->cryptography>=3.1->unstructured-client->unstructured) (2.22)\n",
      "Requirement already satisfied: exceptiongroup>=1.0.2 in /opt/app-root/lib/python3.9/site-packages (from anyio->httpx>=0.27.0->unstructured-client->unstructured) (1.2.2)\n",
      "Building wheels for collected packages: langdetect\n",
      "  Building wheel for langdetect (setup.py) ... \u001b[?25ldone\n",
      "\u001b[?25h  Created wheel for langdetect: filename=langdetect-1.0.9-py3-none-any.whl size=993227 sha256=b78a2ebcfc62330f3d220d48ca901f195c37dee4399e82de8d01c9899a3a19c5\n",
      "  Stored in directory: /tmp/pip-ephem-wheel-cache-tjqaygbo/wheels/d1/c1/d9/7e068de779d863bc8f8fc9467d85e25cfe47fa5051fff1a1bb\n",
      "Successfully built langdetect\n",
      "Installing collected packages: filetype, regex, rapidfuzz, python-magic, python-iso639, olefile, marshmallow, lxml, langdetect, html5lib, emoji, chardet, python-oxmsg, nltk, dataclasses-json, unstructured\n",
      "Successfully installed chardet-5.2.0 dataclasses-json-0.6.7 emoji-2.14.0 filetype-1.2.0 html5lib-1.1 langdetect-1.0.9 lxml-5.3.0 marshmallow-3.23.1 nltk-3.9.1 olefile-0.47 python-iso639-2024.10.22 python-magic-0.4.27 python-oxmsg-0.0.1 rapidfuzz-3.10.1 regex-2024.11.6 unstructured-0.16.5\n",
      "\n",
      "\u001b[1m[\u001b[0m\u001b[34;49mnotice\u001b[0m\u001b[1;39;49m]\u001b[0m\u001b[39;49m A new release of pip available: \u001b[0m\u001b[31;49m22.2.2\u001b[0m\u001b[39;49m -> \u001b[0m\u001b[32;49m24.3.1\u001b[0m\n",
      "\u001b[1m[\u001b[0m\u001b[34;49mnotice\u001b[0m\u001b[1;39;49m]\u001b[0m\u001b[39;49m To update, run: \u001b[0m\u001b[32;49mpip install --upgrade pip\u001b[0m\n",
      "Requirement already satisfied: chromadb in /opt/app-root/lib/python3.9/site-packages (0.5.18)\n",
      "Requirement already satisfied: mmh3>=4.0.1 in /opt/app-root/lib/python3.9/site-packages (from chromadb) (5.0.1)\n",
      "Requirement already satisfied: rich>=10.11.0 in /opt/app-root/lib/python3.9/site-packages (from chromadb) (12.6.0)\n",
      "Requirement already satisfied: opentelemetry-sdk>=1.2.0 in /opt/app-root/lib/python3.9/site-packages (from chromadb) (1.28.1)\n",
      "Requirement already satisfied: opentelemetry-api>=1.2.0 in /opt/app-root/lib/python3.9/site-packages (from chromadb) (1.28.1)\n",
      "Requirement already satisfied: pydantic>=1.9 in /opt/app-root/lib/python3.9/site-packages (from chromadb) (2.9.2)\n",
      "Requirement already satisfied: chroma-hnswlib==0.7.6 in /opt/app-root/lib/python3.9/site-packages (from chromadb) (0.7.6)\n",
      "Requirement already satisfied: fastapi>=0.95.2 in /opt/app-root/lib/python3.9/site-packages (from chromadb) (0.115.4)\n",
      "Requirement already satisfied: opentelemetry-instrumentation-fastapi>=0.41b0 in /opt/app-root/lib/python3.9/site-packages (from chromadb) (0.49b1)\n",
      "Requirement already satisfied: pypika>=0.48.9 in /opt/app-root/lib/python3.9/site-packages (from chromadb) (0.48.9)\n",
      "Requirement already satisfied: tokenizers>=0.13.2 in /opt/app-root/lib/python3.9/site-packages (from chromadb) (0.20.3)\n",
      "Requirement already satisfied: posthog>=2.4.0 in /opt/app-root/lib/python3.9/site-packages (from chromadb) (3.7.0)\n",
      "Requirement already satisfied: tenacity>=8.2.3 in /opt/app-root/lib/python3.9/site-packages (from chromadb) (9.0.0)\n",
      "Requirement already satisfied: orjson>=3.9.12 in /opt/app-root/lib/python3.9/site-packages (from chromadb) (3.10.11)\n",
      "Requirement already satisfied: build>=1.0.3 in /opt/app-root/lib/python3.9/site-packages (from chromadb) (1.2.2.post1)\n",
      "Requirement already satisfied: importlib-resources in /opt/app-root/lib/python3.9/site-packages (from chromadb) (6.4.4)\n",
      "Requirement already satisfied: typing-extensions>=4.5.0 in /opt/app-root/lib/python3.9/site-packages (from chromadb) (4.12.2)\n",
      "Requirement already satisfied: numpy>=1.22.5 in /opt/app-root/lib/python3.9/site-packages (from chromadb) (1.26.4)\n",
      "Requirement already satisfied: bcrypt>=4.0.1 in /opt/app-root/lib/python3.9/site-packages (from chromadb) (4.2.0)\n",
      "Requirement already satisfied: grpcio>=1.58.0 in /opt/app-root/lib/python3.9/site-packages (from chromadb) (1.66.0)\n",
      "Requirement already satisfied: kubernetes>=28.1.0 in /opt/app-root/lib/python3.9/site-packages (from chromadb) (31.0.0)\n",
      "Requirement already satisfied: typer>=0.9.0 in /opt/app-root/lib/python3.9/site-packages (from chromadb) (0.13.0)\n",
      "Requirement already satisfied: overrides>=7.3.1 in /opt/app-root/lib/python3.9/site-packages (from chromadb) (7.7.0)\n",
      "Requirement already satisfied: uvicorn[standard]>=0.18.3 in /opt/app-root/lib/python3.9/site-packages (from chromadb) (0.32.0)\n",
      "Requirement already satisfied: httpx>=0.27.0 in /opt/app-root/lib/python3.9/site-packages (from chromadb) (0.27.2)\n",
      "Requirement already satisfied: tqdm>=4.65.0 in /opt/app-root/lib/python3.9/site-packages (from chromadb) (4.66.5)\n",
      "Requirement already satisfied: PyYAML>=6.0.0 in /opt/app-root/lib/python3.9/site-packages (from chromadb) (6.0.2)\n",
      "Requirement already satisfied: onnxruntime>=1.14.1 in /opt/app-root/lib/python3.9/site-packages (from chromadb) (1.19.2)\n",
      "Requirement already satisfied: opentelemetry-exporter-otlp-proto-grpc>=1.2.0 in /opt/app-root/lib/python3.9/site-packages (from chromadb) (1.28.1)\n",
      "Requirement already satisfied: importlib-metadata>=4.6 in /opt/app-root/lib/python3.9/site-packages (from build>=1.0.3->chromadb) (8.4.0)\n",
      "Requirement already satisfied: packaging>=19.1 in /opt/app-root/lib/python3.9/site-packages (from build>=1.0.3->chromadb) (24.1)\n",
      "Requirement already satisfied: pyproject_hooks in /opt/app-root/lib/python3.9/site-packages (from build>=1.0.3->chromadb) (1.2.0)\n",
      "Requirement already satisfied: tomli>=1.1.0 in /opt/app-root/lib/python3.9/site-packages (from build>=1.0.3->chromadb) (2.0.1)\n",
      "Requirement already satisfied: starlette<0.42.0,>=0.40.0 in /opt/app-root/lib/python3.9/site-packages (from fastapi>=0.95.2->chromadb) (0.41.2)\n",
      "Requirement already satisfied: httpcore==1.* in /opt/app-root/lib/python3.9/site-packages (from httpx>=0.27.0->chromadb) (1.0.6)\n",
      "Requirement already satisfied: anyio in /opt/app-root/lib/python3.9/site-packages (from httpx>=0.27.0->chromadb) (4.4.0)\n",
      "Requirement already satisfied: sniffio in /opt/app-root/lib/python3.9/site-packages (from httpx>=0.27.0->chromadb) (1.3.1)\n",
      "Requirement already satisfied: certifi in /opt/app-root/lib/python3.9/site-packages (from httpx>=0.27.0->chromadb) (2024.7.4)\n",
      "Requirement already satisfied: idna in /opt/app-root/lib/python3.9/site-packages (from httpx>=0.27.0->chromadb) (3.8)\n",
      "Requirement already satisfied: h11<0.15,>=0.13 in /opt/app-root/lib/python3.9/site-packages (from httpcore==1.*->httpx>=0.27.0->chromadb) (0.14.0)\n",
      "Requirement already satisfied: oauthlib>=3.2.2 in /opt/app-root/lib/python3.9/site-packages (from kubernetes>=28.1.0->chromadb) (3.2.2)\n",
      "Requirement already satisfied: six>=1.9.0 in /opt/app-root/lib/python3.9/site-packages (from kubernetes>=28.1.0->chromadb) (1.16.0)\n",
      "Requirement already satisfied: urllib3>=1.24.2 in /opt/app-root/lib/python3.9/site-packages (from kubernetes>=28.1.0->chromadb) (1.26.19)\n",
      "Requirement already satisfied: requests in /opt/app-root/lib/python3.9/site-packages (from kubernetes>=28.1.0->chromadb) (2.32.3)\n",
      "Requirement already satisfied: websocket-client!=0.40.0,!=0.41.*,!=0.42.*,>=0.32.0 in /opt/app-root/lib/python3.9/site-packages (from kubernetes>=28.1.0->chromadb) (1.8.0)\n",
      "Requirement already satisfied: google-auth>=1.0.1 in /opt/app-root/lib/python3.9/site-packages (from kubernetes>=28.1.0->chromadb) (2.34.0)\n",
      "Requirement already satisfied: requests-oauthlib in /opt/app-root/lib/python3.9/site-packages (from kubernetes>=28.1.0->chromadb) (2.0.0)\n",
      "Requirement already satisfied: durationpy>=0.7 in /opt/app-root/lib/python3.9/site-packages (from kubernetes>=28.1.0->chromadb) (0.9)\n",
      "Requirement already satisfied: python-dateutil>=2.5.3 in /opt/app-root/lib/python3.9/site-packages (from kubernetes>=28.1.0->chromadb) (2.8.2)\n",
      "Requirement already satisfied: flatbuffers in /opt/app-root/lib/python3.9/site-packages (from onnxruntime>=1.14.1->chromadb) (24.3.25)\n",
      "Requirement already satisfied: coloredlogs in /opt/app-root/lib/python3.9/site-packages (from onnxruntime>=1.14.1->chromadb) (15.0.1)\n",
      "Requirement already satisfied: sympy in /opt/app-root/lib/python3.9/site-packages (from onnxruntime>=1.14.1->chromadb) (1.13.3)\n",
      "Requirement already satisfied: protobuf in /opt/app-root/lib/python3.9/site-packages (from onnxruntime>=1.14.1->chromadb) (5.28.3)\n",
      "Requirement already satisfied: deprecated>=1.2.6 in /opt/app-root/lib/python3.9/site-packages (from opentelemetry-api>=1.2.0->chromadb) (1.2.14)\n",
      "Requirement already satisfied: googleapis-common-protos~=1.52 in /opt/app-root/lib/python3.9/site-packages (from opentelemetry-exporter-otlp-proto-grpc>=1.2.0->chromadb) (1.64.0)\n",
      "Requirement already satisfied: opentelemetry-proto==1.28.1 in /opt/app-root/lib/python3.9/site-packages (from opentelemetry-exporter-otlp-proto-grpc>=1.2.0->chromadb) (1.28.1)\n",
      "Requirement already satisfied: opentelemetry-exporter-otlp-proto-common==1.28.1 in /opt/app-root/lib/python3.9/site-packages (from opentelemetry-exporter-otlp-proto-grpc>=1.2.0->chromadb) (1.28.1)\n",
      "Requirement already satisfied: opentelemetry-instrumentation==0.49b1 in /opt/app-root/lib/python3.9/site-packages (from opentelemetry-instrumentation-fastapi>=0.41b0->chromadb) (0.49b1)\n",
      "Requirement already satisfied: opentelemetry-util-http==0.49b1 in /opt/app-root/lib/python3.9/site-packages (from opentelemetry-instrumentation-fastapi>=0.41b0->chromadb) (0.49b1)\n",
      "Requirement already satisfied: opentelemetry-instrumentation-asgi==0.49b1 in /opt/app-root/lib/python3.9/site-packages (from opentelemetry-instrumentation-fastapi>=0.41b0->chromadb) (0.49b1)\n",
      "Requirement already satisfied: opentelemetry-semantic-conventions==0.49b1 in /opt/app-root/lib/python3.9/site-packages (from opentelemetry-instrumentation-fastapi>=0.41b0->chromadb) (0.49b1)\n",
      "Requirement already satisfied: wrapt<2.0.0,>=1.0.0 in /opt/app-root/lib/python3.9/site-packages (from opentelemetry-instrumentation==0.49b1->opentelemetry-instrumentation-fastapi>=0.41b0->chromadb) (1.16.0)\n",
      "Requirement already satisfied: asgiref~=3.0 in /opt/app-root/lib/python3.9/site-packages (from opentelemetry-instrumentation-asgi==0.49b1->opentelemetry-instrumentation-fastapi>=0.41b0->chromadb) (3.8.1)\n",
      "Requirement already satisfied: backoff>=1.10.0 in /opt/app-root/lib/python3.9/site-packages (from posthog>=2.4.0->chromadb) (2.2.1)\n",
      "Requirement already satisfied: monotonic>=1.5 in /opt/app-root/lib/python3.9/site-packages (from posthog>=2.4.0->chromadb) (1.6)\n",
      "Requirement already satisfied: annotated-types>=0.6.0 in /opt/app-root/lib/python3.9/site-packages (from pydantic>=1.9->chromadb) (0.7.0)\n",
      "Requirement already satisfied: pydantic-core==2.23.4 in /opt/app-root/lib/python3.9/site-packages (from pydantic>=1.9->chromadb) (2.23.4)\n",
      "Requirement already satisfied: commonmark<0.10.0,>=0.9.0 in /opt/app-root/lib/python3.9/site-packages (from rich>=10.11.0->chromadb) (0.9.1)\n",
      "Requirement already satisfied: pygments<3.0.0,>=2.6.0 in /opt/app-root/lib/python3.9/site-packages (from rich>=10.11.0->chromadb) (2.18.0)\n",
      "Requirement already satisfied: huggingface-hub<1.0,>=0.16.4 in /opt/app-root/lib/python3.9/site-packages (from tokenizers>=0.13.2->chromadb) (0.26.2)\n",
      "Requirement already satisfied: click>=8.0.0 in /opt/app-root/lib/python3.9/site-packages (from typer>=0.9.0->chromadb) (8.1.7)\n",
      "Requirement already satisfied: shellingham>=1.3.0 in /opt/app-root/lib/python3.9/site-packages (from typer>=0.9.0->chromadb) (1.5.4)\n",
      "Requirement already satisfied: websockets>=10.4 in /opt/app-root/lib/python3.9/site-packages (from uvicorn[standard]>=0.18.3->chromadb) (14.0)\n",
      "Requirement already satisfied: watchfiles>=0.13 in /opt/app-root/lib/python3.9/site-packages (from uvicorn[standard]>=0.18.3->chromadb) (0.24.0)\n",
      "Requirement already satisfied: uvloop!=0.15.0,!=0.15.1,>=0.14.0 in /opt/app-root/lib/python3.9/site-packages (from uvicorn[standard]>=0.18.3->chromadb) (0.21.0)\n",
      "Requirement already satisfied: python-dotenv>=0.13 in /opt/app-root/lib/python3.9/site-packages (from uvicorn[standard]>=0.18.3->chromadb) (1.0.1)\n",
      "Requirement already satisfied: httptools>=0.5.0 in /opt/app-root/lib/python3.9/site-packages (from uvicorn[standard]>=0.18.3->chromadb) (0.6.4)\n",
      "Requirement already satisfied: zipp>=3.1.0 in /opt/app-root/lib/python3.9/site-packages (from importlib-resources->chromadb) (3.20.1)\n",
      "Requirement already satisfied: cachetools<6.0,>=2.0.0 in /opt/app-root/lib/python3.9/site-packages (from google-auth>=1.0.1->kubernetes>=28.1.0->chromadb) (5.5.0)\n",
      "Requirement already satisfied: rsa<5,>=3.1.4 in /opt/app-root/lib/python3.9/site-packages (from google-auth>=1.0.1->kubernetes>=28.1.0->chromadb) (4.9)\n",
      "Requirement already satisfied: pyasn1-modules>=0.2.1 in /opt/app-root/lib/python3.9/site-packages (from google-auth>=1.0.1->kubernetes>=28.1.0->chromadb) (0.4.0)\n",
      "Requirement already satisfied: fsspec>=2023.5.0 in /opt/app-root/lib/python3.9/site-packages (from huggingface-hub<1.0,>=0.16.4->tokenizers>=0.13.2->chromadb) (2024.6.1)\n",
      "Requirement already satisfied: filelock in /opt/app-root/lib/python3.9/site-packages (from huggingface-hub<1.0,>=0.16.4->tokenizers>=0.13.2->chromadb) (3.15.4)\n",
      "Requirement already satisfied: charset-normalizer<4,>=2 in /opt/app-root/lib/python3.9/site-packages (from requests->kubernetes>=28.1.0->chromadb) (3.3.2)\n",
      "Requirement already satisfied: exceptiongroup>=1.0.2 in /opt/app-root/lib/python3.9/site-packages (from anyio->httpx>=0.27.0->chromadb) (1.2.2)\n",
      "Requirement already satisfied: humanfriendly>=9.1 in /opt/app-root/lib/python3.9/site-packages (from coloredlogs->onnxruntime>=1.14.1->chromadb) (10.0)\n",
      "Requirement already satisfied: mpmath<1.4,>=1.1.0 in /opt/app-root/lib/python3.9/site-packages (from sympy->onnxruntime>=1.14.1->chromadb) (1.3.0)\n",
      "Requirement already satisfied: pyasn1<0.7.0,>=0.4.6 in /opt/app-root/lib/python3.9/site-packages (from pyasn1-modules>=0.2.1->google-auth>=1.0.1->kubernetes>=28.1.0->chromadb) (0.6.0)\n",
      "\n",
      "\u001b[1m[\u001b[0m\u001b[34;49mnotice\u001b[0m\u001b[1;39;49m]\u001b[0m\u001b[39;49m A new release of pip available: \u001b[0m\u001b[31;49m22.2.2\u001b[0m\u001b[39;49m -> \u001b[0m\u001b[32;49m24.3.1\u001b[0m\n",
      "\u001b[1m[\u001b[0m\u001b[34;49mnotice\u001b[0m\u001b[1;39;49m]\u001b[0m\u001b[39;49m To update, run: \u001b[0m\u001b[32;49mpip install --upgrade pip\u001b[0m\n",
      "Requirement already satisfied: pysqlite3-binary in /opt/app-root/lib/python3.9/site-packages (0.5.4)\n",
      "\n",
      "\u001b[1m[\u001b[0m\u001b[34;49mnotice\u001b[0m\u001b[1;39;49m]\u001b[0m\u001b[39;49m A new release of pip available: \u001b[0m\u001b[31;49m22.2.2\u001b[0m\u001b[39;49m -> \u001b[0m\u001b[32;49m24.3.1\u001b[0m\n",
      "\u001b[1m[\u001b[0m\u001b[34;49mnotice\u001b[0m\u001b[1;39;49m]\u001b[0m\u001b[39;49m To update, run: \u001b[0m\u001b[32;49mpip install --upgrade pip\u001b[0m\n"
     ]
    }
   ],
   "source": [
    "# Install Unstructured.io libraries and chromadb.  Chromadb is an in memory vector database.  If you don't know what a vector database\n",
    "# is, read the section 'What is a Vector Database?'in the geeksforgeeks.org website.\n",
    "\n",
    "!pip install unstructured_client\n",
    "!pip install unstructured\n",
    "!pip install chromadb\n",
    "!pip install pysqlite3-binary"
   ]
  },
  {
   "cell_type": "code",
   "execution_count": null,
   "id": "de04a97f-3d5e-48c7-a7e4-f9cc67a71328",
   "metadata": {},
   "outputs": [],
   "source": []
  },
  {
   "cell_type": "markdown",
   "id": "d5c11b5b-4de7-420e-8031-74878d25cedd",
   "metadata": {},
   "source": [
    "\n",
    "**Note:**\n",
    "Chroma requires SQLite > 3.35.  If you are on a linux system, you can install pysqlite3-binary and then override \n",
    "the default sqlite3 library before running Chroma.\n"
   ]
  },
  {
   "cell_type": "code",
   "execution_count": 2,
   "id": "afccc48c-51c1-4ae1-a926-8f3fbbbb1205",
   "metadata": {
    "tags": []
   },
   "outputs": [],
   "source": [
    "import pysqlite3\n",
    "import sys\n",
    "sys.modules['sqlite3'] = sys.modules.pop('pysqlite3')"
   ]
  },
  {
   "cell_type": "code",
   "execution_count": 3,
   "id": "523f46f8-a35a-4bc5-aa6c-7270a13e4f72",
   "metadata": {
    "tags": []
   },
   "outputs": [],
   "source": [
    "# Warning control\n",
    "import warnings\n",
    "warnings.filterwarnings('ignore')"
   ]
  },
  {
   "cell_type": "code",
   "execution_count": 4,
   "id": "96ba771b-4820-4207-9d7d-97aac18c8421",
   "metadata": {
    "tags": []
   },
   "outputs": [],
   "source": [
    "import logging\n",
    "logger = logging.getLogger()\n",
    "logger.setLevel(logging.CRITICAL)"
   ]
  },
  {
   "cell_type": "code",
   "execution_count": 5,
   "id": "9ba5e510-91cc-433a-b689-f37f0074de54",
   "metadata": {
    "tags": []
   },
   "outputs": [],
   "source": [
    "import json\n",
    "from IPython.display import JSON\n",
    "\n",
    "from unstructured_client import UnstructuredClient\n",
    "from unstructured_client.models import shared\n",
    "from unstructured_client.models.errors import SDKError\n",
    "\n",
    "from unstructured.chunking.basic import chunk_elements\n",
    "from unstructured.chunking.title import chunk_by_title\n",
    "from unstructured.staging.base import dict_to_elements\n",
    "\n",
    "import chromadb"
   ]
  },
  {
   "cell_type": "code",
   "execution_count": 11,
   "id": "0a31e801-726a-41f4-98c0-915f30e9e516",
   "metadata": {
    "tags": []
   },
   "outputs": [],
   "source": [
    "#Connection to Unstructured model API\n",
    "    #Use the DLAI_API_KEY & DLAI_API_URL that you obtained from Unstructured.io\n",
    "    #UNSTRUCTURED_API_KEY = 'your DLAI_API_KEY'\n",
    "    #UNSTRUCTURED_API_URL = 'your DLAI_API_URL'\n",
    "\n",
    "#Example using your credentials\n",
    "UNSTRUCTURED_API_KEY = 'tkp3I9iABLDbcJvfgGvnELB4Y2usgn'\n",
    "UNSTRUCTURED_API_URL = 'https://naaissa-62qdjqlm.api.unstructuredapp.io/'\n",
    "\n",
    "#Create a client\n",
    "client = UnstructuredClient(\n",
    "    api_key_auth=UNSTRUCTURED_API_KEY,\n",
    "    server_url=UNSTRUCTURED_API_URL,\n",
    ")"
   ]
  },
  {
   "cell_type": "markdown",
   "id": "417e7c7b-213c-4a2b-853b-14aa16d9fbe9",
   "metadata": {},
   "source": [
    "## View the content of the file\n",
    "- <a href=\"example_files/CP_CHRT_C_G4M3BA_De-identified.pdf\">Patient Chart (View PDF) -- Click Here</a>"
   ]
  },
  {
   "cell_type": "markdown",
   "id": "868a6bbf-a3e7-423b-8631-7ea2a5f399ed",
   "metadata": {},
   "source": [
    "## Use Unstructured API"
   ]
  },
  {
   "cell_type": "code",
   "execution_count": 12,
   "id": "dc371344-251c-4e0b-bbce-c6e556251b02",
   "metadata": {
    "tags": []
   },
   "outputs": [
    {
     "name": "stderr",
     "output_type": "stream",
     "text": [
      "INFO: HTTP Request: POST https://naaissa-62qdjqlm.api.unstructuredapp.io/general/v0/general \"HTTP/1.1 200 OK\"\n"
     ]
    },
    {
     "name": "stdout",
     "output_type": "stream",
     "text": [
      "{'type': 'Title', 'element_id': 'da061e7b23ad36a4729f7ee39657b7a2', 'text': 'PAST MEDICAL HISTORY', 'metadata': {'filetype': 'application/pdf', 'languages': ['eng'], 'page_number': 1, 'filename': 'CP_CHRT_C_G4M3BA_De-identified.pdf'}}\n"
     ]
    }
   ],
   "source": [
    "filename = \"example_files/CP_CHRT_C_G4M3BA_De-identified.pdf\"\n",
    "\n",
    "with open(filename, \"rb\") as f:\n",
    "    files=shared.Files(\n",
    "        content=f.read(),\n",
    "        file_name=filename,\n",
    "    )\n",
    "\n",
    "req = {\n",
    "    \"partition_parameters\": {\n",
    "        \"files\": {\n",
    "            \"content\": open(filename, \"rb\"),\n",
    "            \"file_name\": filename,\n",
    "        },\n",
    "        \"strategy\": shared.Strategy.HI_RES,\n",
    "        \"languages\": ['eng'],\n",
    "        \"split_pdf_page\": True,            # If True, splits the PDF file into smaller chunks of pages.\n",
    "        \"split_pdf_allow_failed\": True,    # If True, the partitioning continues even if some pages fail.\n",
    "        \"split_pdf_concurrency_level\": 15  # Set the number of concurrent request to the maximum value: 15.\n",
    "    }\n",
    "}\n",
    "\n",
    "try:\n",
    "    res = client.general.partition(request=req)\n",
    "    element_dicts = [element for element in res.elements]\n",
    "\n",
    "    # Print the processed data's first element only.\n",
    "    print(element_dicts[0])\n",
    "\n",
    "    # Write the processed data to a local file.\n",
    "    json_elements = json.dumps(element_dicts, indent=2)\n",
    "\n",
    "    with open(\"PATH_TO_OUTPUT_FILE\", \"w\") as file:\n",
    "        file.write(json_elements)\n",
    "except Exception as e:\n",
    "    print(e)"
   ]
  },
  {
   "cell_type": "code",
   "execution_count": 15,
   "id": "32159484-571c-49c4-b79d-5260ebfb48d3",
   "metadata": {},
   "outputs": [
    {
     "data": {
      "application/json": [
       {
        "element_id": "da061e7b23ad36a4729f7ee39657b7a2",
        "metadata": {
         "filename": "CP_CHRT_C_G4M3BA_De-identified.pdf",
         "filetype": "application/pdf",
         "languages": [
          "eng"
         ],
         "page_number": 1
        },
        "text": "PAST MEDICAL HISTORY",
        "type": "Title"
       },
       {
        "element_id": "5b038a6b03cdc06e1249c15d4713cd55",
        "metadata": {
         "filename": "CP_CHRT_C_G4M3BA_De-identified.pdf",
         "filetype": "application/pdf",
         "languages": [
          "eng"
         ],
         "page_number": 1,
         "parent_id": "da061e7b23ad36a4729f7ee39657b7a2"
        },
        "text": "Patient has a past medical history of Anxiety, Disease of thyroid gland, Migraine, Obstructive sleep apnea i Prediabetes.",
        "type": "NarrativeText"
       },
       {
        "element_id": "b1e6b19cf5095d5cabd2845a5f3f51d9",
        "metadata": {
         "filename": "CP_CHRT_C_G4M3BA_De-identified.pdf",
         "filetype": "application/pdf",
         "languages": [
          "eng"
         ],
         "page_number": 1,
         "parent_id": "da061e7b23ad36a4729f7ee39657b7a2"
        },
        "text": "She has no past medical history of Angina pectoris (CMS/HCC), Arthritis, Asthma, Atrial fibrillation (CMS/HCC), Awareness under anesthesia, Basal cell carcinoma, Cancer (CMS/HCC), Chronic kidney disease, Chronic pain disorder, Chronic renal failure, COPD (chronic obstructive pulmonary disease) (CMS/HCC), Deep vein thrombosis (CMS/HCC), Delayed emergence from general anesthesia, Depression, Diabetes mellitus type I (CMS/HCC), Diabetic retinopathy (CMS/HCC), Dry eyes, Epilepsy (CMS/HCC), Eye trauma, GERD (gastroesophageal reflux disease), Glaucoma, Hard to intubate, Heart disease, Heart murmur, Hiatal hemia, HIV disease (CMS/HCC), Hypertension, Hypertensive retinopathy, Infectious viral hepatitis, Macular degeneration, Malignant hyperthermia, Melanoma (CMS/HCC), Mitral valve prolapse, Motion sickness, Myocardial infarction (CMS/HCC), Parkinson's disease (CMS/HCC), Peptic ulceration, PONV (postoperative nausea and vomiting), Pseudocholinesterase deficiency, attack), Tuberculosis, Type 2diabetes mellitus (CMS/HCC), or Valvular disease. PA S T",
        "type": "NarrativeText"
       },
       {
        "element_id": "6c8dbb5374802cd239e1b79bb3a0bcf4",
        "metadata": {
         "filename": "CP_CHRT_C_G4M3BA_De-identified.pdf",
         "filetype": "application/pdf",
         "languages": [
          "eng"
         ],
         "page_number": 1
        },
        "text": "VACCINE HISTORY",
        "type": "Title"
       },
       {
        "element_id": "d96e57a98306a298b63ce159d1f12b4b",
        "metadata": {
         "filename": "CP_CHRT_C_G4M3BA_De-identified.pdf",
         "filetype": "application/pdf",
         "languages": [
          "eng"
         ],
         "page_number": 1,
         "parent_id": "6c8dbb5374802cd239e1b79bb3a0bcf4"
        },
        "text": "1. Polio",
        "type": "NarrativeText"
       },
       {
        "element_id": "f3d784e36bdfc0c513844d02de07908f",
        "metadata": {
         "filename": "CP_CHRT_C_G4M3BA_De-identified.pdf",
         "filetype": "application/pdf",
         "languages": [
          "eng"
         ],
         "page_number": 1
        },
        "text": "N O~ WN",
        "type": "Title"
       },
       {
        "element_id": "e018291d344a879cdaf991966c73e418",
        "metadata": {
         "filename": "CP_CHRT_C_G4M3BA_De-identified.pdf",
         "filetype": "application/pdf",
         "languages": [
          "eng"
         ],
         "page_number": 1,
         "parent_id": "f3d784e36bdfc0c513844d02de07908f"
        },
        "text": "2. Measles",
        "type": "NarrativeText"
       },
       {
        "element_id": "34e1ddec40b0371ddddc93a2c22feb0b",
        "metadata": {
         "filename": "CP_CHRT_C_G4M3BA_De-identified.pdf",
         "filetype": "application/pdf",
         "languages": [
          "eng"
         ],
         "page_number": 1,
         "parent_id": "f3d784e36bdfc0c513844d02de07908f"
        },
        "text": "3. ChickenPox",
        "type": "NarrativeText"
       },
       {
        "element_id": "9a4f85196ee0881fa7e4a7ab413c487f",
        "metadata": {
         "filename": "CP_CHRT_C_G4M3BA_De-identified.pdf",
         "filetype": "application/pdf",
         "languages": [
          "eng"
         ],
         "page_number": 1,
         "parent_id": "f3d784e36bdfc0c513844d02de07908f"
        },
        "text": "4. COVID",
        "type": "NarrativeText"
       },
       {
        "element_id": "251accf5f5a65b22d4d2e850553015e1",
        "metadata": {
         "filename": "CP_CHRT_C_G4M3BA_De-identified.pdf",
         "filetype": "application/pdf",
         "languages": [
          "eng"
         ],
         "page_number": 1,
         "parent_id": "f3d784e36bdfc0c513844d02de07908f"
        },
        "text": "5. Tetnaus, Diphtheria",
        "type": "NarrativeText"
       },
       {
        "element_id": "7d345ef2a20940706f7aacfc3d444994",
        "metadata": {
         "filename": "CP_CHRT_C_G4M3BA_De-identified.pdf",
         "filetype": "application/pdf",
         "languages": [
          "eng"
         ],
         "page_number": 1,
         "parent_id": "f3d784e36bdfc0c513844d02de07908f"
        },
        "text": "6. Flu Shot",
        "type": "NarrativeText"
       },
       {
        "element_id": "428762b81e99a13df27bc885a9dc3785",
        "metadata": {
         "filename": "CP_CHRT_C_G4M3BA_De-identified.pdf",
         "filetype": "application/pdf",
         "languages": [
          "eng"
         ],
         "page_number": 1,
         "parent_id": "f3d784e36bdfc0c513844d02de07908f"
        },
        "text": "7. Yellow Fever",
        "type": "NarrativeText"
       },
       {
        "element_id": "00e30e6d6cc56289ca2c602c1b0dbcc2",
        "metadata": {
         "filename": "CP_CHRT_C_G4M3BA_De-identified.pdf",
         "filetype": "application/pdf",
         "languages": [
          "eng"
         ],
         "page_number": 1,
         "parent_id": "f3d784e36bdfc0c513844d02de07908f"
        },
        "text": "8. Rabies",
        "type": "NarrativeText"
       },
       {
        "element_id": "739ec169e9f67ffdd42e595921338a4e",
        "metadata": {
         "filename": "CP_CHRT_C_G4M3BA_De-identified.pdf",
         "filetype": "application/pdf",
         "languages": [
          "eng"
         ],
         "page_number": 1
        },
        "text": "SURGICAL HISTORY",
        "type": "Title"
       },
       {
        "element_id": "a1cc57d6952d90eba8bf16566cc4b75c",
        "metadata": {
         "filename": "CP_CHRT_C_G4M3BA_De-identified.pdf",
         "filetype": "application/pdf",
         "languages": [
          "eng"
         ],
         "page_number": 1,
         "parent_id": "739ec169e9f67ffdd42e595921338a4e"
        },
        "text": "1. Pr explore parathyroid glands n/a. Procedure: neck exploration with parathyroidectomy",
        "type": "NarrativeText"
       },
       {
        "element_id": "ad7c13e63d876f5f92b1076e4be72779",
        "metadata": {
         "filename": "CP_CHRT_C_G4M3BA_De-identified.pdf",
         "filetype": "application/pdf",
         "languages": [
          "eng"
         ],
         "page_number": 1,
         "parent_id": "739ec169e9f67ffdd42e595921338a4e"
        },
        "text": "2. Pr strabismus surg, two horiz muscle",
        "type": "NarrativeText"
       },
       {
        "element_id": "5b633599cab89b7d034e672faf663cfb",
        "metadata": {
         "filename": "CP_CHRT_C_G4M3BA_De-identified.pdf",
         "filetype": "application/pdf",
         "languages": [
          "eng"
         ],
         "page_number": 1,
         "parent_id": "739ec169e9f67ffdd42e595921338a4e"
        },
        "text": "EE)",
        "type": "UncategorizedText"
       },
       {
        "element_id": "7adba53b444557ec7f50ff8815231a98",
        "metadata": {
         "filename": "CP_CHRT_C_G4M3BA_De-identified.pdf",
         "filetype": "application/pdf",
         "languages": [
          "eng"
         ],
         "page_number": 1,
         "parent_id": "739ec169e9f67ffdd42e595921338a4e"
        },
        "text": "3. Right Procedure: strabismus surgery, right eye, Ophthalmology",
        "type": "NarrativeText"
       },
       {
        "element_id": "36478bc9dee3d62edbb9a77020367156",
        "metadata": {
         "filename": "CP_CHRT_C_G4M3BA_De-identified.pdf",
         "filetype": "application/pdf",
         "languages": [
          "eng"
         ],
         "page_number": 1,
         "parent_id": "739ec169e9f67ffdd42e595921338a4e"
        },
        "text": "4. Skin Graft: suffered burns and skin grafts from truck explosion",
        "type": "NarrativeText"
       },
       {
        "element_id": "f9b6ef1a10eb84c8c873922c831ffe20",
        "metadata": {
         "filename": "CP_CHRT_C_G4M3BA_De-identified.pdf",
         "filetype": "application/pdf",
         "languages": [
          "eng"
         ],
         "page_number": 1,
         "parent_id": "739ec169e9f67ffdd42e595921338a4e"
        },
        "text": "5. Tubal Ligation",
        "type": "NarrativeText"
       }
      ],
      "text/plain": [
       "<IPython.core.display.JSON object>"
      ]
     },
     "execution_count": 15,
     "metadata": {
      "application/json": {
       "expanded": false,
       "root": "root"
      }
     },
     "output_type": "execute_result"
    }
   ],
   "source": [
    "JSON(json.dumps(res.elements[0:20], indent=2))"
   ]
  },
  {
   "cell_type": "markdown",
   "id": "d3251d41-3ae0-4cf0-9aa5-2c67c2c91ac3",
   "metadata": {},
   "source": [
    "## Find elements associated with patient chart sections"
   ]
  },
  {
   "cell_type": "code",
   "execution_count": 16,
   "id": "45c16155-cb42-4a76-9767-ffe30bf8ca45",
   "metadata": {},
   "outputs": [
    {
     "data": {
      "text/plain": [
       "[]"
      ]
     },
     "execution_count": 16,
     "metadata": {},
     "output_type": "execute_result"
    }
   ],
   "source": [
    "[x for x in res.elements if x['type'] == 'Title' and 'SURGICAL HISTORY' in x['text'].lower()]"
   ]
  },
  {
   "cell_type": "code",
   "execution_count": 17,
   "id": "ef558156-a62f-4a57-b685-bb5ae27b0795",
   "metadata": {},
   "outputs": [],
   "source": [
    "sections = [\n",
    "    \"PAST MEDICAL HISTORY\",\n",
    "    \"VACCINE HISTORY\",\n",
    "    \"SURGICAL HISTORY\",\n",
    "    \"SOCIAL HISTORY\",\n",
    "    \"VITALS\",\n",
    "    \"VIDEO EXAM VIA TELEMEDICINE\",\n",
    "    \"ASSESSMENT & PLAN\",\n",
    "    \"FOLLOW UP\",\n",
    "    \"SIGNATURE\",\n",
    "]"
   ]
  },
  {
   "cell_type": "code",
   "execution_count": 19,
   "id": "e6bd8ee0-ad8e-455b-94d0-030d67bb355f",
   "metadata": {},
   "outputs": [],
   "source": [
    "section_ids = {}\n",
    "for element in res.elements:\n",
    "    for section in sections:\n",
    "        if element[\"text\"] == section and element[\"type\"] == \"Title\":\n",
    "            section_ids[element[\"element_id\"]] = section\n",
    "            break"
   ]
  },
  {
   "cell_type": "code",
   "execution_count": 20,
   "id": "dd219155-7197-4200-bc0f-020d05a5e816",
   "metadata": {},
   "outputs": [
    {
     "data": {
      "text/plain": [
       "{'da061e7b23ad36a4729f7ee39657b7a2': 'PAST MEDICAL HISTORY',\n",
       " '6c8dbb5374802cd239e1b79bb3a0bcf4': 'VACCINE HISTORY',\n",
       " '739ec169e9f67ffdd42e595921338a4e': 'SURGICAL HISTORY',\n",
       " '6c3cb75b3189082a62400014b632894b': 'SOCIAL HISTORY',\n",
       " 'a3a664150ef280a7af534a7c1e1114db': 'VIDEO EXAM VIA TELEMEDICINE',\n",
       " 'b217300f8cc2fa7150c186ea32efe177': 'ASSESSMENT & PLAN'}"
      ]
     },
     "execution_count": 20,
     "metadata": {},
     "output_type": "execute_result"
    }
   ],
   "source": [
    "section_ids"
   ]
  },
  {
   "cell_type": "code",
   "execution_count": 21,
   "id": "49a25bf1-6de1-4159-a92c-237f80b02ed9",
   "metadata": {},
   "outputs": [
    {
     "data": {
      "text/plain": [
       "{'type': 'NarrativeText',\n",
       " 'element_id': 'a1cc57d6952d90eba8bf16566cc4b75c',\n",
       " 'text': '1. Pr explore parathyroid glands n/a. Procedure: neck exploration with parathyroidectomy',\n",
       " 'metadata': {'filetype': 'application/pdf',\n",
       "  'languages': ['eng'],\n",
       "  'page_number': 1,\n",
       "  'parent_id': '739ec169e9f67ffdd42e595921338a4e',\n",
       "  'filename': 'CP_CHRT_C_G4M3BA_De-identified.pdf'}}"
      ]
     },
     "execution_count": 21,
     "metadata": {},
     "output_type": "execute_result"
    }
   ],
   "source": [
    "section_to_id = {v: k for k, v in section_ids.items()}\n",
    "[x for x in res.elements if x[\"metadata\"].get(\"parent_id\") == section_to_id[\"SURGICAL HISTORY\"]][0]"
   ]
  },
  {
   "cell_type": "markdown",
   "id": "f71c4a8a-5333-4eff-8097-e30bb6fb2337",
   "metadata": {},
   "source": [
    "## Load documents into a vector db"
   ]
  },
  {
   "cell_type": "code",
   "execution_count": 22,
   "id": "3e4eee60-d688-4235-ac63-02ab5efc7904",
   "metadata": {},
   "outputs": [
    {
     "name": "stderr",
     "output_type": "stream",
     "text": [
      "INFO: Anonymized telemetry enabled. See                     https://docs.trychroma.com/telemetry for more information.\n"
     ]
    },
    {
     "data": {
      "text/plain": [
       "True"
      ]
     },
     "execution_count": 22,
     "metadata": {},
     "output_type": "execute_result"
    }
   ],
   "source": [
    "client = chromadb.PersistentClient(path=\"chroma_tmp\", settings=chromadb.Settings(allow_reset=True))\n",
    "client.reset()"
   ]
  },
  {
   "cell_type": "code",
   "execution_count": 23,
   "id": "ec45d0a2-ada6-4380-9eb6-b660aa9d275a",
   "metadata": {},
   "outputs": [],
   "source": [
    "collection = client.create_collection(\n",
    "    name=\"patientcharts\",\n",
    "    metadata={\"hnsw:space\": \"cosine\"}\n",
    ")"
   ]
  },
  {
   "cell_type": "code",
   "execution_count": 24,
   "id": "ca366ff8-bfb4-4edc-89c5-7147120fadb9",
   "metadata": {},
   "outputs": [
    {
     "name": "stderr",
     "output_type": "stream",
     "text": [
      "INFO: HTTP Request: GET https://chroma-onnx-models.s3.amazonaws.com/all-MiniLM-L6-v2/onnx.tar.gz \"HTTP/1.1 200 OK\"\n",
      "/opt/app-root/src/.cache/chroma/onnx_models/all-MiniLM-L6-v2/onnx.tar.gz: 100%|██████████| 79.3M/79.3M [00:00<00:00, 103MiB/s] \n"
     ]
    }
   ],
   "source": [
    "for element in res.elements:\n",
    "    parent_id = element[\"metadata\"].get(\"parent_id\")\n",
    "    section = section_ids.get(parent_id, \"\")\n",
    "    collection.add(\n",
    "        documents=[element[\"text\"]],\n",
    "        ids=[element[\"element_id\"]],\n",
    "        metadatas=[{\"section\": section}]\n",
    "    )"
   ]
  },
  {
   "cell_type": "markdown",
   "id": "8a599975-f80c-478c-845e-3aa06ad26147",
   "metadata": {},
   "source": [
    "## See the elements in Vector DB"
   ]
  },
  {
   "cell_type": "code",
   "execution_count": 25,
   "id": "77247bc5-4e14-44e5-95cc-dd85d7ec4b47",
   "metadata": {},
   "outputs": [
    {
     "name": "stdout",
     "output_type": "stream",
     "text": [
      "['PAST MEDICAL HISTORY', 'Patient has a past medical history of Anxiety, Disease of thyroid gland, Migraine, Obstructive sleep apnea i Prediabetes.', \"She has no past medical history of Angina pectoris (CMS/HCC), Arthritis, Asthma, Atrial fibrillation (CMS/HCC), Awareness under anesthesia, Basal cell carcinoma, Cancer (CMS/HCC), Chronic kidney disease, Chronic pain disorder, Chronic renal failure, COPD (chronic obstructive pulmonary disease) (CMS/HCC), Deep vein thrombosis (CMS/HCC), Delayed emergence from general anesthesia, Depression, Diabetes mellitus type I (CMS/HCC), Diabetic retinopathy (CMS/HCC), Dry eyes, Epilepsy (CMS/HCC), Eye trauma, GERD (gastroesophageal reflux disease), Glaucoma, Hard to intubate, Heart disease, Heart murmur, Hiatal hemia, HIV disease (CMS/HCC), Hypertension, Hypertensive retinopathy, Infectious viral hepatitis, Macular degeneration, Malignant hyperthermia, Melanoma (CMS/HCC), Mitral valve prolapse, Motion sickness, Myocardial infarction (CMS/HCC), Parkinson's disease (CMS/HCC), Peptic ulceration, PONV (postoperative nausea and vomiting), Pseudocholinesterase deficiency, attack), Tuberculosis, Type 2diabetes mellitus (CMS/HCC), or Valvular disease. PA S T\", 'VACCINE HISTORY', '1. Polio', 'N O~ WN', '2. Measles', '3. ChickenPox', '4. COVID', '5. Tetnaus, Diphtheria']\n"
     ]
    }
   ],
   "source": [
    "results = collection.peek()\n",
    "print(results[\"documents\"])"
   ]
  },
  {
   "cell_type": "markdown",
   "id": "6f5415c1-fa22-47f8-aad8-c5db2ebba0ac",
   "metadata": {},
   "source": [
    "## Perform a hybrid search with metadata"
   ]
  },
  {
   "cell_type": "code",
   "execution_count": 26,
   "id": "2ea74acf-5504-43c1-8020-fee53a057a75",
   "metadata": {},
   "outputs": [
    {
     "name": "stdout",
     "output_type": "stream",
     "text": [
      "{\n",
      "  \"ids\": [\n",
      "    [\n",
      "      \"36478bc9dee3d62edbb9a77020367156\",\n",
      "      \"7adba53b444557ec7f50ff8815231a98\"\n",
      "    ]\n",
      "  ],\n",
      "  \"embeddings\": null,\n",
      "  \"documents\": [\n",
      "    [\n",
      "      \"4. Skin Graft: suffered burns and skin grafts from truck explosion\",\n",
      "      \"3. Right Procedure: strabismus surgery, right eye, Ophthalmology\"\n",
      "    ]\n",
      "  ],\n",
      "  \"uris\": null,\n",
      "  \"data\": null,\n",
      "  \"metadatas\": [\n",
      "    [\n",
      "      {\n",
      "        \"section\": \"SURGICAL HISTORY\"\n",
      "      },\n",
      "      {\n",
      "        \"section\": \"SURGICAL HISTORY\"\n",
      "      }\n",
      "    ]\n",
      "  ],\n",
      "  \"distances\": [\n",
      "    [\n",
      "      0.3832554706013752,\n",
      "      0.6725163885487607\n",
      "    ]\n",
      "  ],\n",
      "  \"included\": [\n",
      "    \"distances\",\n",
      "    \"documents\",\n",
      "    \"metadatas\"\n",
      "  ]\n",
      "}\n"
     ]
    }
   ],
   "source": [
    "result = collection.query(\n",
    "    query_texts=[\"Did the patient have a skin graft?\"],\n",
    "    n_results=2,\n",
    "    where={\"section\": \"SURGICAL HISTORY\"},\n",
    ")\n",
    "print(json.dumps(result, indent=2))"
   ]
  },
  {
   "cell_type": "markdown",
   "id": "335fd24d-e555-4050-9e83-31d5590bb6aa",
   "metadata": {},
   "source": [
    "## Chunking Content"
   ]
  },
  {
   "cell_type": "code",
   "execution_count": 27,
   "id": "1292bace-e5d9-49fb-9e6e-b1140cd025b8",
   "metadata": {},
   "outputs": [],
   "source": [
    "elements = dict_to_elements(res.elements)"
   ]
  },
  {
   "cell_type": "code",
   "execution_count": 28,
   "id": "fb0b29a5-2d8c-4855-ac07-fe29ffb4dfe8",
   "metadata": {},
   "outputs": [],
   "source": [
    "chunks = chunk_by_title(\n",
    "    elements,\n",
    "    combine_text_under_n_chars=100,\n",
    "    max_characters=3000,\n",
    ")"
   ]
  },
  {
   "cell_type": "code",
   "execution_count": 29,
   "id": "39a56fc9-8960-4659-a205-798dd74ff01c",
   "metadata": {},
   "outputs": [
    {
     "data": {
      "application/json": {
       "element_id": "9081b115-e0dc-47a1-b0f7-52457a990861",
       "metadata": {
        "filename": "CP_CHRT_C_G4M3BA_De-identified.pdf",
        "filetype": "application/pdf",
        "languages": [
         "eng"
        ],
        "orig_elements": "eJzdVO+LGzcQ/VcGf+kF3Mv5x9pxvzn2ERvqnDmbgxKCmZVmd4fTSoukvZ4J/d87Wid3dhoC/VYKZr0azYzem/dWn770yFBNNh5Y936DnsabyYCm+XCEejTB8XQ4K6ZEo9kkm+ZTHPb60KsposaIkv+lV7AhizWl4sX2sFjd7w+Lw4fxZvR+fljSr6ylORdM+rrRRSpPFfHYdBXYNIYVRnb27ddtg7ZssaQg+596ZMveZ4k2EjnYts7JS3zwl4QiPcfUYzvf7WFzu1wv5r/Dar3b393/kRp9O2PP0VBPKr7nmuU3o3c4kafS6mZCg+F4pgaZHk8HEsmy/wjXLuL/hUQXw5HzpBQqDIDQYIhQkxYYBioO0fkjuALm9pkFZx+WHAgDpVisjt6xhlJA6j5suPTIlvpwl4foWxX5iSAYogawsYTAsPXSGnOKFK7PFfiI3mPK3ydUP1AiH9AkH8xUkd3MMp0pzPXw3TjDrBgV2UDP/g9K7CrqVLDuJzKUbEUlUhLhAFeLze7tarF404e5j5XnyEFeQ6xqlP/oWeoLzj0b07G5qPgzQaUQoLWaPKC8x4oCS+l7DFKpyMgDvWLrUsMFWiWJZz0WlXeWFTyytnQEfXLHa7wRR6So83LCa1jOTcCQTetT9t12CVfq66Y7s0/TmtpZ9C+t35yfvkzeeiI5Qri7OnfhciZLMngkDeIkX5Jgh0LSQF7Jy/nnhJfUeBmFjCh5/GRRUcAYjm2A5AtYX7TucjoqUabToHwNF/sCmY4katw2YqwmXOzeHgmixzYN9cPtvZAvRXHvKLimEksJOE+FaZ9faEuewVZ1MqzQa4gO2MY2xygDXBH6+Dr907JuvfxkxfJRiI2oTkRX64dvieeIVsLQR7KnCbyuRIMzhn1Y20LMx06G8sS+ays7J99tULUGPWg6TTh2vTZouLSYrpiua0W+A7IRcZKtzlFsOKaeT2iS9t4ZbBKfjeu8G1g9Jr9K4OjEljq5m20hBv3e21v0j2yDs7+EH7HdUpO0a416gbm9+/gAV42Tb62h02UEFlspFZ9oeHK1kLRlKg7UaqcqZzgZSJKluaaClVykSmaEMaJ6lMx9K/eCzCT5UlbJREP9D3Od4XIeHoT7aYon2NewncMO9j+5Lj//DXyxiKY=",
        "page_number": 1
       },
       "text": "PAST MEDICAL HISTORY\n\nPatient has a past medical history of Anxiety, Disease of thyroid gland, Migraine, Obstructive sleep apnea i Prediabetes.\n\nShe has no past medical history of Angina pectoris (CMS/HCC), Arthritis, Asthma, Atrial fibrillation (CMS/HCC), Awareness under anesthesia, Basal cell carcinoma, Cancer (CMS/HCC), Chronic kidney disease, Chronic pain disorder, Chronic renal failure, COPD (chronic obstructive pulmonary disease) (CMS/HCC), Deep vein thrombosis (CMS/HCC), Delayed emergence from general anesthesia, Depression, Diabetes mellitus type I (CMS/HCC), Diabetic retinopathy (CMS/HCC), Dry eyes, Epilepsy (CMS/HCC), Eye trauma, GERD (gastroesophageal reflux disease), Glaucoma, Hard to intubate, Heart disease, Heart murmur, Hiatal hemia, HIV disease (CMS/HCC), Hypertension, Hypertensive retinopathy, Infectious viral hepatitis, Macular degeneration, Malignant hyperthermia, Melanoma (CMS/HCC), Mitral valve prolapse, Motion sickness, Myocardial infarction (CMS/HCC), Parkinson's disease (CMS/HCC), Peptic ulceration, PONV (postoperative nausea and vomiting), Pseudocholinesterase deficiency, attack), Tuberculosis, Type 2diabetes mellitus (CMS/HCC), or Valvular disease. PA S T",
       "type": "CompositeElement"
      },
      "text/plain": [
       "<IPython.core.display.JSON object>"
      ]
     },
     "execution_count": 29,
     "metadata": {
      "application/json": {
       "expanded": false,
       "root": "root"
      }
     },
     "output_type": "execute_result"
    }
   ],
   "source": [
    "JSON(json.dumps(chunks[0].to_dict(), indent=2))"
   ]
  },
  {
   "cell_type": "code",
   "execution_count": 30,
   "id": "0513d3ce-31e1-43c4-a298-7fed41735bc7",
   "metadata": {},
   "outputs": [
    {
     "data": {
      "text/plain": [
       "50"
      ]
     },
     "execution_count": 30,
     "metadata": {},
     "output_type": "execute_result"
    }
   ],
   "source": [
    "len(elements)"
   ]
  },
  {
   "cell_type": "code",
   "execution_count": 31,
   "id": "91a6a2f5-e260-4647-a8dc-67b258872b8e",
   "metadata": {},
   "outputs": [
    {
     "data": {
      "text/plain": [
       "7"
      ]
     },
     "execution_count": 31,
     "metadata": {},
     "output_type": "execute_result"
    }
   ],
   "source": [
    "len(chunks)"
   ]
  },
  {
   "cell_type": "code",
   "execution_count": null,
   "id": "ad4f9fa0-f788-4ae6-bac6-b9298efb205b",
   "metadata": {},
   "outputs": [],
   "source": []
  },
  {
   "cell_type": "code",
   "execution_count": null,
   "id": "301ff05c-4444-46d1-a386-900ec3aa83d6",
   "metadata": {},
   "outputs": [],
   "source": []
  },
  {
   "cell_type": "code",
   "execution_count": null,
   "id": "21ea6e7a-734f-4b6e-810d-e2967198bb4f",
   "metadata": {},
   "outputs": [],
   "source": []
  },
  {
   "cell_type": "code",
   "execution_count": null,
   "id": "1a013e6a-c444-4348-9929-a7971bd69d3c",
   "metadata": {},
   "outputs": [],
   "source": []
  },
  {
   "cell_type": "code",
   "execution_count": null,
   "id": "1093b1b1-5f6e-4ebd-8a14-476d022e826e",
   "metadata": {},
   "outputs": [],
   "source": []
  },
  {
   "cell_type": "code",
   "execution_count": null,
   "id": "11c9b1f1-c877-46ca-9838-edf7bce63684",
   "metadata": {},
   "outputs": [],
   "source": []
  }
 ],
 "metadata": {
  "kernelspec": {
   "display_name": "Python 3.9",
   "language": "python",
   "name": "python3"
  },
  "language_info": {
   "codemirror_mode": {
    "name": "ipython",
    "version": 3
   },
   "file_extension": ".py",
   "mimetype": "text/x-python",
   "name": "python",
   "nbconvert_exporter": "python",
   "pygments_lexer": "ipython3",
   "version": "3.9.16"
  }
 },
 "nbformat": 4,
 "nbformat_minor": 5
}
