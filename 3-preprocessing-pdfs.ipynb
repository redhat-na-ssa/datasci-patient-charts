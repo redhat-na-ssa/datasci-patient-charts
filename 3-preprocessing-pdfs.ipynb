{
 "cells": [
  {
   "cell_type": "markdown",
   "id": "8990a030-4edd-4362-aef2-7a1357257383",
   "metadata": {},
   "source": [
    "# Preprocessing PDFs"
   ]
  },
  {
   "cell_type": "code",
   "execution_count": null,
   "id": "60be3313",
   "metadata": {},
   "outputs": [],
   "source": [
    "# Coursera, Preprocessing Unstructured Data for LLM Applications, March 2024\n",
    "# Modified code for this demo:  https://github.com/redhat-na-ssa/patientcharts2"
   ]
  },
  {
   "cell_type": "code",
   "execution_count": null,
   "id": "74693f39-ab39-49b0-a4d6-50b829e941b8",
   "metadata": {},
   "outputs": [],
   "source": [
    "# Warning control\n",
    "import warnings\n",
    "warnings.filterwarnings('ignore')"
   ]
  },
  {
   "cell_type": "code",
   "execution_count": null,
   "id": "30b979ec-03a8-4296-af23-26fc86384d8e",
   "metadata": {},
   "outputs": [],
   "source": [
    "from unstructured_client import UnstructuredClient\n",
    "from unstructured_client.models import shared\n",
    "from unstructured_client.models.errors import SDKError\n",
    "\n",
    "from unstructured.partition.html import partition_html\n",
    "from unstructured.partition.pdf import partition_pdf\n",
    "\n",
    "from unstructured.staging.base import dict_to_elements"
   ]
  },
  {
   "cell_type": "code",
   "execution_count": null,
   "id": "caee5a38-3123-4608-8a58-60cd01675781",
   "metadata": {},
   "outputs": [],
   "source": [
    "from Utils import Utils\n",
    "utils = Utils()\n",
    "\n",
    "DLAI_API_KEY = utils.get_dlai_api_key()\n",
    "DLAI_API_URL = utils.get_dlai_url()\n",
    "\n",
    "s = UnstructuredClient(\n",
    "    api_key_auth=DLAI_API_KEY,\n",
    "    server_url=DLAI_API_URL,\n",
    ")"
   ]
  },
  {
   "cell_type": "markdown",
   "id": "b8c88125-aafc-4adc-855a-694adfdb9180",
   "metadata": {},
   "source": [
    "## Example Patient Chart: PDF"
   ]
  },
  {
   "cell_type": "markdown",
   "id": "cd80195c-ded9-41db-ab5b-312d2cc4bd5c",
   "metadata": {},
   "source": [
    "### View the content of the files\n",
    "- <a href=\"example_files/CP_CHRT_C_G4M3BA_De-identified.pdf\">Patient Chart (View PDF) -- Click Here</a>\n"
   ]
  },
  {
   "cell_type": "markdown",
   "id": "a2d3a088-d60d-447c-8ae8-56c1781e8af3",
   "metadata": {},
   "source": [
    "## Process the PDF with Document Layout Detection"
   ]
  },
  {
   "cell_type": "code",
   "execution_count": null,
   "id": "f8f0a8e4-86a4-4cc7-928e-3a6f4071e71a",
   "metadata": {},
   "outputs": [],
   "source": [
    "filename = \"example_files/CP_CHRT_C_G4M3BA_De-identified.pdf\"\n",
    "pdf_elements = partition_pdf(filename=filename, strategy=\"fast\")"
   ]
  },
  {
   "cell_type": "code",
   "execution_count": null,
   "id": "b4651212-adcc-4b0b-bc76-28f2df3479a8",
   "metadata": {},
   "outputs": [],
   "source": [
    "for element in pdf_elements[:10]:\n",
    "    print(f\"{element.category.upper()}: {element.text}\")"
   ]
  },
  {
   "cell_type": "code",
   "execution_count": null,
   "id": "23a02748-d66f-40ee-842d-8a2ffb5a4684",
   "metadata": {},
   "outputs": [],
   "source": [
    "with open(filename, \"rb\") as f:\n",
    "    files=shared.Files(\n",
    "        content=f.read(),\n",
    "        file_name=filename,\n",
    "    )\n",
    "\n",
    "req = shared.PartitionParameters(\n",
    "    files=files,\n",
    "    strategy=\"hi_res\",\n",
    "    hi_res_model_name=\"yolox\",\n",
    ")\n",
    "\n",
    "try:\n",
    "    resp = s.general.partition(req)\n",
    "    dld_elements = dict_to_elements(resp.elements)\n",
    "except SDKError as e:\n",
    "    print(e)"
   ]
  },
  {
   "cell_type": "code",
   "execution_count": null,
   "id": "27f22ac3-ae60-459d-9a3b-5f1ecdd750b8",
   "metadata": {},
   "outputs": [],
   "source": [
    "for element in dld_elements[:10]:\n",
    "    print(f\"{element.category.upper()}: {element.text}\")"
   ]
  },
  {
   "cell_type": "code",
   "execution_count": null,
   "id": "c5ae0671-c7c6-4578-9efb-e7824958607b",
   "metadata": {},
   "outputs": [],
   "source": [
    "import collections"
   ]
  },
  {
   "cell_type": "code",
   "execution_count": null,
   "id": "008e072c-f7de-4096-bf74-7e1dfef6a939",
   "metadata": {},
   "outputs": [],
   "source": [
    "len(dld_elements)"
   ]
  },
  {
   "cell_type": "code",
   "execution_count": null,
   "id": "f28733a7-6325-4953-97eb-db44a98b6649",
   "metadata": {},
   "outputs": [],
   "source": [
    "dld_categories = [el.category for el in dld_elements]\n",
    "collections.Counter(dld_categories).most_common()"
   ]
  },
  {
   "cell_type": "code",
   "execution_count": null,
   "id": "881e19ea-5fcf-4932-9753-8d130f91f4ba",
   "metadata": {},
   "outputs": [],
   "source": []
  },
  {
   "cell_type": "code",
   "execution_count": null,
   "id": "74c82e97-a40e-490a-b978-5fc4f9fb1214",
   "metadata": {},
   "outputs": [],
   "source": []
  },
  {
   "cell_type": "code",
   "execution_count": null,
   "id": "c707dd0e-a86c-4e4d-8426-18c404b23463",
   "metadata": {},
   "outputs": [],
   "source": []
  },
  {
   "cell_type": "code",
   "execution_count": null,
   "id": "a4513c9d-20e9-41c2-a309-2fbb22f4279e",
   "metadata": {},
   "outputs": [],
   "source": []
  },
  {
   "cell_type": "code",
   "execution_count": null,
   "id": "6610fe0e-c23e-4a23-a52a-d53d61a93055",
   "metadata": {},
   "outputs": [],
   "source": []
  },
  {
   "cell_type": "code",
   "execution_count": null,
   "id": "6df37882-4192-4f68-a06d-c58c93bc2b32",
   "metadata": {},
   "outputs": [],
   "source": []
  },
  {
   "cell_type": "code",
   "execution_count": null,
   "id": "fa30dd13-2881-46b5-8c33-606ae2702921",
   "metadata": {},
   "outputs": [],
   "source": []
  }
 ],
 "metadata": {
  "kernelspec": {
   "display_name": "Python 3 (ipykernel)",
   "language": "python",
   "name": "python3"
  },
  "language_info": {
   "codemirror_mode": {
    "name": "ipython",
    "version": 3
   },
   "file_extension": ".py",
   "mimetype": "text/x-python",
   "name": "python",
   "nbconvert_exporter": "python",
   "pygments_lexer": "ipython3",
   "version": "3.9.6"
  }
 },
 "nbformat": 4,
 "nbformat_minor": 5
}
